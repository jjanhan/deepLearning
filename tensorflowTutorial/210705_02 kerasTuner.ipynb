{
 "cells": [
  {
   "cell_type": "markdown",
   "id": "8ee45206",
   "metadata": {},
   "source": [
    "<참조: https://www.tensorflow.org/tutorials/keras/keras_tuner>"
   ]
  },
  {
   "cell_type": "markdown",
   "id": "3f1ae88d",
   "metadata": {},
   "source": [
    "## Keras Tuner\n",
    "  - 최적의 하이퍼파라미터 세트를 선택하는데 도움을 주는 라이브러리\n",
    "  - 하이퍼파라미터(hyper-parameter) 조정 / 하이퍼튜닝 : 최적의 하이퍼파라미터 세트를 선택하는 과정  \n",
    "    \n",
    "      \n",
    "  - 하이퍼파라미터 유형\n",
    "    - 모델 하이퍼파라미터 : 숨겨진 레이어의 수 및 너비와 같은 모델 선택에 영향을 미치는 파라미터\n",
    "    - 알고리즘 하이퍼파라미터 : SGD(Stochastic Gradient Descent)의 학습률 및 KNN(k Nearest Neighbors) 분류자의 최근접 이웃 수와 같은 학습 알고리즘의 속도와 품질에 영향을 주는 파라미터"
   ]
  },
  {
   "cell_type": "code",
   "execution_count": null,
   "id": "5be4c100",
   "metadata": {},
   "outputs": [],
   "source": []
  },
  {
   "cell_type": "markdown",
   "id": "f3ab2e8f",
   "metadata": {},
   "source": [
    "### 01. 준비 / 설정"
   ]
  },
  {
   "cell_type": "code",
   "execution_count": 1,
   "id": "70b5c5b0",
   "metadata": {},
   "outputs": [],
   "source": [
    "import tensorflow as tf\n",
    "from tensorflow import keras\n",
    "\n",
    "import IPython"
   ]
  },
  {
   "cell_type": "code",
   "execution_count": 2,
   "id": "1fe46561",
   "metadata": {},
   "outputs": [
    {
     "name": "stderr",
     "output_type": "stream",
     "text": [
      "<ipython-input-2-5d7b6944a6ac>:2: DeprecationWarning: `import kerastuner` is deprecated, please use `import keras_tuner`.\n",
      "  import kerastuner as kt\n"
     ]
    }
   ],
   "source": [
    "!pip install -q -U keras-tuner\n",
    "import kerastuner as kt"
   ]
  },
  {
   "cell_type": "code",
   "execution_count": null,
   "id": "cc8d9f09",
   "metadata": {},
   "outputs": [],
   "source": []
  },
  {
   "cell_type": "markdown",
   "id": "1a264666",
   "metadata": {},
   "source": [
    "### 02. 데이터세트 다운로드"
   ]
  },
  {
   "cell_type": "code",
   "execution_count": 3,
   "id": "1094536d",
   "metadata": {},
   "outputs": [],
   "source": [
    "(img_train, label_train), (img_test, label_test) = keras.datasets.fashion_mnist.load_data()"
   ]
  },
  {
   "cell_type": "code",
   "execution_count": 5,
   "id": "4f2a8459",
   "metadata": {},
   "outputs": [],
   "source": [
    "# Normalize pixel values between 0 and 1\n",
    "img_train = img_train.astype('float32') / 255.0\n",
    "img_test = img_test.astype('float32') / 255.0"
   ]
  },
  {
   "cell_type": "code",
   "execution_count": null,
   "id": "2ab2cbca",
   "metadata": {},
   "outputs": [],
   "source": []
  },
  {
   "cell_type": "markdown",
   "id": "832be914",
   "metadata": {},
   "source": [
    "### 03. 모델 구현\n",
    "  - 하이퍼 튜닝을 위한 모델을 빌드\n",
    "    - 모델 아키텍처와 하이퍼파라미터 검색 공간도 정의 : 하이퍼 모델  \n",
    "      \n",
    "  - 하이퍼 모델 정의\n",
    "    - 모델 빌더 함수 사용\n",
    "    - Keras Tuner API의 HyperModel 클래스를 하위 클래스화\n",
    "      - HyperXception\n",
    "      - HyperResNet"
   ]
  },
  {
   "cell_type": "code",
   "execution_count": 12,
   "id": "d9b09cb5",
   "metadata": {},
   "outputs": [],
   "source": [
    "def model_builder(hp):\n",
    "    model = keras.Sequential()\n",
    "    model.add(keras.layers.Flatten(input_shape=(28, 28)))\n",
    "    \n",
    "    # Tune the number of units in the first Dense layer\n",
    "    # Choose an optimal value between 32-512\n",
    "    hp_units = hp.Int('units', min_value=32, max_value=512, step=32)\n",
    "    model.add(keras.layers.Dense(units=hp_units, activation='relu'))\n",
    "    model.add(keras.layers.Dense(10))\n",
    "    \n",
    "    # Tune the learning rate for the optimizer\n",
    "    # Choose an optimal value from 0.01, 0.001, or 0.0001\n",
    "    hp_learning_rate = hp.Choice('learning_rate', values=[1e-2, 1e-3, 1e-4])\n",
    "    \n",
    "    model.compile(optimizer=keras.optimizers.Adam(learning_rate=hp_learning_rate),\n",
    "                 loss=keras.losses.SparseCategoricalCrossentropy(from_logits=True),\n",
    "                 metrics=['accuracy'])\n",
    "    \n",
    "    return model"
   ]
  },
  {
   "cell_type": "code",
   "execution_count": null,
   "id": "238626d7",
   "metadata": {},
   "outputs": [],
   "source": []
  },
  {
   "cell_type": "markdown",
   "id": "a8dedc32",
   "metadata": {},
   "source": [
    "### 04. 하이퍼 튜닝 수행\n",
    "  - 튜너를 인스턴스화\n",
    "  - Keras Tuner\n",
    "    - RandomSearch\n",
    "    - Hyperband\n",
    "    - BayesianOptimization\n",
    "    - Sklearn"
   ]
  },
  {
   "cell_type": "code",
   "execution_count": 13,
   "id": "fc724336",
   "metadata": {},
   "outputs": [],
   "source": [
    "tuner = kt.Hyperband(model_builder,\n",
    "                    objective='val_accuracy',\n",
    "                    max_epochs=10,\n",
    "                    factor=3,\n",
    "                    directory='my_dir',\n",
    "                    project_name='intro_to_kt')"
   ]
  },
  {
   "cell_type": "code",
   "execution_count": 16,
   "id": "bbf32528",
   "metadata": {},
   "outputs": [],
   "source": [
    "# 하이퍼파라미터 검색을 실행하기 전에 훈련 단계가 끝날 때마다 훈련 결과를 지우도록 콜백 설정\n",
    "class ClearTrainingOutput(tf.keras.callbacks.Callback):\n",
    "    def on_train_end(*args, **kwargs):\n",
    "        IPython.display.clear_output(wait=True)"
   ]
  },
  {
   "cell_type": "code",
   "execution_count": 18,
   "id": "2ff914a9",
   "metadata": {},
   "outputs": [
    {
     "name": "stdout",
     "output_type": "stream",
     "text": [
      "Trial 31 Complete [00h 04m 03s]\n",
      "val_accuracy: 0.881600022315979\n",
      "\n",
      "Best val_accuracy So Far: 0.882099986076355\n",
      "Total elapsed time: 00h 39m 28s\n",
      "INFO:tensorflow:Oracle triggered exit\n",
      "\n",
      "The hyperparameter search is complete. The optimal number of units in the first densely-connected\n",
      "layer is 128 and the optimal learning rate for the optimizer is 0.001\n",
      "\n"
     ]
    }
   ],
   "source": [
    "# 파이퍼파라미터 검색\n",
    "tuner.search(img_train, label_train, epochs=10, validation_data=(img_test, label_test),\n",
    "            callbacks=[ClearTrainingOutput()])\n",
    "\n",
    "# Get the optimal hyperparameters\n",
    "best_hps = tuner.get_best_hyperparameters(num_trials=1)[0]\n",
    "\n",
    "\n",
    "print(f'''\n",
    "The hyperparameter search is complete. The optimal number of units in the first densely-connected\n",
    "layer is {best_hps.get('units')} and the optimal learning rate for the optimizer is {best_hps.get('learning_rate')}\n",
    "''')"
   ]
  },
  {
   "cell_type": "code",
   "execution_count": null,
   "id": "1e5e502b",
   "metadata": {},
   "outputs": [],
   "source": []
  },
  {
   "cell_type": "markdown",
   "id": "8fbd5b0f",
   "metadata": {},
   "source": [
    "#### my_dir/intro_to_kt 디렉토리\n",
    "  - 하이퍼파라미터 검색 중에 실행되는 모든 시험에 대한 상세 로그와 체크포인트가 포함\n",
    "  - 하이퍼파라미터 검색을 다시 실행 : Keras Tuner가 이러한 로그의 기존 상태를 사용하여 검색을 재개\n",
    "  - 이 동작을 비활성화\n",
    "    - 튜너를 인스턴스화하는 동안 \"overwrite=True\" 인수를 추가"
   ]
  },
  {
   "cell_type": "markdown",
   "id": "78b92197",
   "metadata": {},
   "source": [
    "## 추가 자료\n",
    "  - TensorFlow 블로그의 Keras Tuner : https://blog.tensorflow.org/2020/01/hyperparameter-tuning-with-keras-tuner.html\n",
    "  - Keras Tuner Website : https://keras.io/keras_tuner/  \n",
    "    \n",
    "      \n",
    "  - TensorBoard의 HParams Dashboard : https://www.tensorflow.org/tensorboard/hyperparameter_tuning_with_hparams"
   ]
  },
  {
   "cell_type": "code",
   "execution_count": null,
   "id": "ef72ef8f",
   "metadata": {},
   "outputs": [],
   "source": []
  }
 ],
 "metadata": {
  "kernelspec": {
   "display_name": "Python 3",
   "language": "python",
   "name": "python3"
  },
  "language_info": {
   "codemirror_mode": {
    "name": "ipython",
    "version": 3
   },
   "file_extension": ".py",
   "mimetype": "text/x-python",
   "name": "python",
   "nbconvert_exporter": "python",
   "pygments_lexer": "ipython3",
   "version": "3.8.8"
  }
 },
 "nbformat": 4,
 "nbformat_minor": 5
}

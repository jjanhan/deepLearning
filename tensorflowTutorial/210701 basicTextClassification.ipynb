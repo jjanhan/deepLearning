{
 "cells": [
  {
   "cell_type": "markdown",
   "id": "8ef707cb",
   "metadata": {},
   "source": [
    "### 내용\n",
    "  - 영화 리뷰(review) 텍스트를 긍정(positive) / 부정(negative)로 분류\n",
    "  - 이진(binary) 분류 : 클래스(class)가 두 개인 분류  \n",
    "    \n",
    "### 데이터\n",
    "  - 인터넷 영화 데이터베이스(Internet Movie Database) : 50,000개\n",
    "  - IMDB 데이터셋 사용\n",
    "  - 구성 : (train, test) = (25000, 25000)"
   ]
  },
  {
   "cell_type": "code",
   "execution_count": null,
   "id": "6d8a7712",
   "metadata": {},
   "outputs": [],
   "source": []
  },
  {
   "cell_type": "markdown",
   "id": "2f90492c",
   "metadata": {},
   "source": [
    "### 01. import"
   ]
  },
  {
   "cell_type": "code",
   "execution_count": 1,
   "id": "78a94b19",
   "metadata": {},
   "outputs": [],
   "source": [
    "import tensorflow as tf\n",
    "from tensorflow import keras\n",
    "\n",
    "import numpy as np"
   ]
  },
  {
   "cell_type": "code",
   "execution_count": 2,
   "id": "8e5a9b20",
   "metadata": {},
   "outputs": [
    {
     "name": "stdout",
     "output_type": "stream",
     "text": [
      "2.5.0\n"
     ]
    }
   ],
   "source": [
    "print(tf.__version__)"
   ]
  },
  {
   "cell_type": "code",
   "execution_count": null,
   "id": "fecef352",
   "metadata": {},
   "outputs": [],
   "source": []
  },
  {
   "cell_type": "markdown",
   "id": "a676bbad",
   "metadata": {},
   "source": [
    "### 02. IMDB Dataset Download\n",
    "  - 리뷰는 전처리해서 정수 시퀀스로 변환되어 있음\n",
    "  - 정수 : 어휘사전에 있는 특정 단어  \n",
    "    \n",
    "  - num_words=10000 : 가장 많이 등장하는 상위 10,000개의 단어를 선택"
   ]
  },
  {
   "cell_type": "code",
   "execution_count": 3,
   "id": "2ffd2ee9",
   "metadata": {},
   "outputs": [
    {
     "name": "stdout",
     "output_type": "stream",
     "text": [
      "Downloading data from https://storage.googleapis.com/tensorflow/tf-keras-datasets/imdb.npz\n",
      "17465344/17464789 [==============================] - 2s 0us/step\n"
     ]
    },
    {
     "name": "stderr",
     "output_type": "stream",
     "text": [
      "<__array_function__ internals>:5: VisibleDeprecationWarning: Creating an ndarray from ragged nested sequences (which is a list-or-tuple of lists-or-tuples-or ndarrays with different lengths or shapes) is deprecated. If you meant to do this, you must specify 'dtype=object' when creating the ndarray\n",
      "C:\\Users\\jjanh_000\\program\\conda\\lib\\site-packages\\tensorflow\\python\\keras\\datasets\\imdb.py:155: VisibleDeprecationWarning: Creating an ndarray from ragged nested sequences (which is a list-or-tuple of lists-or-tuples-or ndarrays with different lengths or shapes) is deprecated. If you meant to do this, you must specify 'dtype=object' when creating the ndarray\n",
      "  x_train, y_train = np.array(xs[:idx]), np.array(labels[:idx])\n",
      "C:\\Users\\jjanh_000\\program\\conda\\lib\\site-packages\\tensorflow\\python\\keras\\datasets\\imdb.py:156: VisibleDeprecationWarning: Creating an ndarray from ragged nested sequences (which is a list-or-tuple of lists-or-tuples-or ndarrays with different lengths or shapes) is deprecated. If you meant to do this, you must specify 'dtype=object' when creating the ndarray\n",
      "  x_test, y_test = np.array(xs[idx:]), np.array(labels[idx:])\n"
     ]
    }
   ],
   "source": [
    "imdb = keras.datasets.imdb\n",
    "\n",
    "(train_data, train_labels), (test_data, test_labels) = imdb.load_data(num_words=10000)"
   ]
  },
  {
   "cell_type": "code",
   "execution_count": null,
   "id": "b66d7885",
   "metadata": {},
   "outputs": [],
   "source": []
  },
  {
   "cell_type": "markdown",
   "id": "32440e1a",
   "metadata": {},
   "source": [
    "### 03. 데이터 확인"
   ]
  },
  {
   "cell_type": "code",
   "execution_count": 4,
   "id": "6ac562ad",
   "metadata": {},
   "outputs": [
    {
     "name": "stdout",
     "output_type": "stream",
     "text": [
      "train: 25000, label: 25000\n"
     ]
    }
   ],
   "source": [
    "print(\"train: {}, label: {}\".format(len(train_data), len(train_labels)))"
   ]
  },
  {
   "cell_type": "code",
   "execution_count": 6,
   "id": "fb7254e2",
   "metadata": {},
   "outputs": [
    {
     "name": "stdout",
     "output_type": "stream",
     "text": [
      "[1, 14, 22, 16, 43, 530, 973, 1622, 1385, 65, 458, 4468, 66, 3941, 4, 173, 36, 256, 5, 25, 100, 43, 838, 112, 50, 670, 2, 9, 35, 480, 284, 5, 150, 4, 172, 112, 167, 2, 336, 385, 39, 4, 172, 4536, 1111, 17, 546, 38, 13, 447, 4, 192, 50, 16, 6, 147, 2025, 19, 14, 22, 4, 1920, 4613, 469, 4, 22, 71, 87, 12, 16, 43, 530, 38, 76, 15, 13, 1247, 4, 22, 17, 515, 17, 12, 16, 626, 18, 2, 5, 62, 386, 12, 8, 316, 8, 106, 5, 4, 2223, 5244, 16, 480, 66, 3785, 33, 4, 130, 12, 16, 38, 619, 5, 25, 124, 51, 36, 135, 48, 25, 1415, 33, 6, 22, 12, 215, 28, 77, 52, 5, 14, 407, 16, 82, 2, 8, 4, 107, 117, 5952, 15, 256, 4, 2, 7, 3766, 5, 723, 36, 71, 43, 530, 476, 26, 400, 317, 46, 7, 4, 2, 1029, 13, 104, 88, 4, 381, 15, 297, 98, 32, 2071, 56, 26, 141, 6, 194, 7486, 18, 4, 226, 22, 21, 134, 476, 26, 480, 5, 144, 30, 5535, 18, 51, 36, 28, 224, 92, 25, 104, 4, 226, 65, 16, 38, 1334, 88, 12, 16, 283, 5, 16, 4472, 113, 103, 32, 15, 16, 5345, 19, 178, 32]\n",
      "1\n"
     ]
    }
   ],
   "source": [
    "print(train_data[0])\n",
    "print(train_labels[0])"
   ]
  },
  {
   "cell_type": "code",
   "execution_count": 7,
   "id": "97284102",
   "metadata": {},
   "outputs": [
    {
     "data": {
      "text/plain": [
       "(218, 189)"
      ]
     },
     "execution_count": 7,
     "metadata": {},
     "output_type": "execute_result"
    }
   ],
   "source": [
    "len(train_data[0]), len(train_data[1])"
   ]
  },
  {
   "cell_type": "markdown",
   "id": "e2455264",
   "metadata": {},
   "source": [
    "#### 정수를 단어로 변환"
   ]
  },
  {
   "cell_type": "code",
   "execution_count": 8,
   "id": "3d73dd04",
   "metadata": {},
   "outputs": [
    {
     "name": "stdout",
     "output_type": "stream",
     "text": [
      "Downloading data from https://storage.googleapis.com/tensorflow/tf-keras-datasets/imdb_word_index.json\n",
      "1646592/1641221 [==============================] - 1s 0us/step\n"
     ]
    }
   ],
   "source": [
    "# 단어와 정수 인덱스를 매핑한 딕셔너리\n",
    "word_index = imdb.get_word_index()\n",
    "\n",
    "# 이미 정의되어 있는 인덱스 : 의미있는 단어가 아니라 텍스트에 필요한 인덱스\n",
    "word_index = {k:(v+3) for k, v in word_index.items()}\n",
    "word_index[\"<PAD>\"] = 0\n",
    "word_index[\"<START>\"] = 1\n",
    "word_index[\"<UNK>\"] = 2    # unknown\n",
    "word_index[\"<UNUSED>\"] = 3\n",
    "\n",
    "reverse_word_index = dict([(value, key) for (key, value) in word_index.items()])\n",
    "\n",
    "def decode_review(text):\n",
    "    return ' '.join([reverse_word_index.get(i, '?') for i in text])"
   ]
  },
  {
   "cell_type": "markdown",
   "id": "30113d9e",
   "metadata": {},
   "source": [
    "#### decode_review 함수 : 리뷰 텍스트를 출력"
   ]
  },
  {
   "cell_type": "code",
   "execution_count": 9,
   "id": "5701cfe3",
   "metadata": {},
   "outputs": [
    {
     "data": {
      "text/plain": [
       "\"<START> this film was just brilliant casting location scenery story direction everyone's really suited the part they played and you could just imagine being there robert <UNK> is an amazing actor and now the same being director <UNK> father came from the same scottish island as myself so i loved the fact there was a real connection with this film the witty remarks throughout the film were great it was just brilliant so much that i bought the film as soon as it was released for <UNK> and would recommend it to everyone to watch and the fly fishing was amazing really cried at the end it was so sad and you know what they say if you cry at a film it must have been good and this definitely was also <UNK> to the two little boy's that played the <UNK> of norman and paul they were just brilliant children are often left out of the <UNK> list i think because the stars that play them all grown up are such a big profile for the whole film but these children are amazing and should be praised for what they have done don't you think the whole story was so lovely because it was true and was someone's life after all that was shared with us all\""
      ]
     },
     "execution_count": 9,
     "metadata": {},
     "output_type": "execute_result"
    }
   ],
   "source": [
    "decode_review(train_data[0])"
   ]
  },
  {
   "cell_type": "code",
   "execution_count": null,
   "id": "efcf9a43",
   "metadata": {},
   "outputs": [],
   "source": []
  },
  {
   "cell_type": "markdown",
   "id": "402da5ca",
   "metadata": {},
   "source": [
    "### 04. 데이터 준비\n",
    "  - 원-핫 인코딩(one-hot encoding) : 0과 1로 이루어진 정수 배열 벡터\n",
    "    - 10,000차원의 벡터 중 요소가 1인 인자만 배열로 나타냄\n",
    "    - num_words * num_reviews 크기의 행렬이 필요 : 메모리 사용량 크다\n",
    "    - Dense 층을 신경망의 첫 번째 층으로 사용 : 실수 벡터 데이터를 다루는 층\n",
    "      \n",
    "  - 패딩(padding)을 추가해 정수 배열의 길이를 일치\n",
    "    - max_length * num_reviews 크기의 정수 텐서\n",
    "    - 이 텐서를 다룰 수 있는 임베딩(embedding) 층을 신경망의 첫 번째 층으로 사용"
   ]
  },
  {
   "cell_type": "markdown",
   "id": "8eab3520",
   "metadata": {},
   "source": [
    "#### pad_sequences 함수 : 영화리뷰의 길이를 같도록 만듬"
   ]
  },
  {
   "cell_type": "code",
   "execution_count": 10,
   "id": "e7b33705",
   "metadata": {},
   "outputs": [],
   "source": [
    "train_data = keras.preprocessing.sequence.pad_sequences(train_data,\n",
    "                                                       value=word_index[\"<PAD>\"],\n",
    "                                                       padding='post',\n",
    "                                                       maxlen=256)\n",
    "test_data = keras.preprocessing.sequence.pad_sequences(test_data,\n",
    "                                                      value=word_index[\"<PAD>\"],\n",
    "                                                      padding='post',\n",
    "                                                      maxlen=256)"
   ]
  },
  {
   "cell_type": "code",
   "execution_count": 11,
   "id": "ee4062d9",
   "metadata": {},
   "outputs": [
    {
     "data": {
      "text/plain": [
       "(256, 256)"
      ]
     },
     "execution_count": 11,
     "metadata": {},
     "output_type": "execute_result"
    }
   ],
   "source": [
    "len(train_data[0]), len(train_data[1])"
   ]
  },
  {
   "cell_type": "code",
   "execution_count": 12,
   "id": "b4fa20d9",
   "metadata": {},
   "outputs": [
    {
     "name": "stdout",
     "output_type": "stream",
     "text": [
      "[   1   14   22   16   43  530  973 1622 1385   65  458 4468   66 3941\n",
      "    4  173   36  256    5   25  100   43  838  112   50  670    2    9\n",
      "   35  480  284    5  150    4  172  112  167    2  336  385   39    4\n",
      "  172 4536 1111   17  546   38   13  447    4  192   50   16    6  147\n",
      " 2025   19   14   22    4 1920 4613  469    4   22   71   87   12   16\n",
      "   43  530   38   76   15   13 1247    4   22   17  515   17   12   16\n",
      "  626   18    2    5   62  386   12    8  316    8  106    5    4 2223\n",
      " 5244   16  480   66 3785   33    4  130   12   16   38  619    5   25\n",
      "  124   51   36  135   48   25 1415   33    6   22   12  215   28   77\n",
      "   52    5   14  407   16   82    2    8    4  107  117 5952   15  256\n",
      "    4    2    7 3766    5  723   36   71   43  530  476   26  400  317\n",
      "   46    7    4    2 1029   13  104   88    4  381   15  297   98   32\n",
      " 2071   56   26  141    6  194 7486   18    4  226   22   21  134  476\n",
      "   26  480    5  144   30 5535   18   51   36   28  224   92   25  104\n",
      "    4  226   65   16   38 1334   88   12   16  283    5   16 4472  113\n",
      "  103   32   15   16 5345   19  178   32    0    0    0    0    0    0\n",
      "    0    0    0    0    0    0    0    0    0    0    0    0    0    0\n",
      "    0    0    0    0    0    0    0    0    0    0    0    0    0    0\n",
      "    0    0    0    0]\n"
     ]
    }
   ],
   "source": [
    "print(train_data[0])"
   ]
  },
  {
   "cell_type": "code",
   "execution_count": null,
   "id": "eda139b2",
   "metadata": {},
   "outputs": [],
   "source": []
  },
  {
   "cell_type": "markdown",
   "id": "54b80462",
   "metadata": {},
   "source": [
    "### 05. 모델 구성\n",
    "  - 모델에서 얼마나 많은 층을 사용할 것인가?\n",
    "  - 각 층에서 얼마나 많은 은닉 유닛(hidden unit)을 사용할 것인가?  \n",
    "    \n",
    "    \n",
    "  - 입력 데이터 : 단어 인덱스의 배열\n",
    "  - 예측 레이블 : positive / negative  \n",
    "    \n",
    "      \n",
    "#### layer 구성 : 분류기(classifier)\n",
    "  - Embedding\n",
    "    - 입력 : 정수로 인코딩된 단어\n",
    "    - 각 단어 인덱스에 해당하는 임베딩 벡터 : 모델이 훈련되면서 학습\n",
    "    - 출력(최종) 차원 : (batch, sequence, embedding)\n",
    "  - GlobalAveragePooling1D\n",
    "    - sequence 차원에 대해 평균을 계산\n",
    "    - 각 샘플에 고정된 길이의 출력 벡터를 반환 : 길이가 다른 입력을 다루는 가장 간단한 방법\n",
    "  - Dense : 16개의 은닉 유닛을 가진 fully-connected 층을 거침\n",
    "  - 마지막 층 : 하나의 출력 노드를 가진 fully-connected 층\n",
    "    - 활성화 함수 : sigmoid를 통해 0과 1사이의 실수를 출력\n",
    "    - 출력된 값은 확률 또는 신뢰도를 나타냄"
   ]
  },
  {
   "cell_type": "code",
   "execution_count": 13,
   "id": "590f78f4",
   "metadata": {},
   "outputs": [
    {
     "name": "stdout",
     "output_type": "stream",
     "text": [
      "Model: \"sequential\"\n",
      "_________________________________________________________________\n",
      "Layer (type)                 Output Shape              Param #   \n",
      "=================================================================\n",
      "embedding (Embedding)        (None, None, 16)          160000    \n",
      "_________________________________________________________________\n",
      "global_average_pooling1d (Gl (None, 16)                0         \n",
      "_________________________________________________________________\n",
      "dense (Dense)                (None, 16)                272       \n",
      "_________________________________________________________________\n",
      "dense_1 (Dense)              (None, 1)                 17        \n",
      "=================================================================\n",
      "Total params: 160,289\n",
      "Trainable params: 160,289\n",
      "Non-trainable params: 0\n",
      "_________________________________________________________________\n"
     ]
    }
   ],
   "source": [
    "vocab_size = 10000\n",
    "\n",
    "model = keras.Sequential()\n",
    "model.add(keras.layers.Embedding(vocab_size, 16, input_shape=(None,)))\n",
    "model.add(keras.layers.GlobalAveragePooling1D())\n",
    "model.add(keras.layers.Dense(16, activation='relu'))\n",
    "model.add(keras.layers.Dense(1, activation='sigmoid'))\n",
    "\n",
    "model.summary()"
   ]
  },
  {
   "cell_type": "code",
   "execution_count": null,
   "id": "a6728b5f",
   "metadata": {},
   "outputs": [],
   "source": []
  },
  {
   "cell_type": "markdown",
   "id": "db3a4cf9",
   "metadata": {},
   "source": [
    "#### 은닉 유닛 : hidden unit\n",
    "  - 입력과 출력 사이에 은닉 층이 존재.\n",
    "  - 출력(유닛, 노드, 뉴런)의 개수는 층이 가진 표현공간(representational space)의 차원\n",
    "    - 내부 표현을 학습할 때 허용되는 네트워크의 자유도의 양  \n",
    "      \n",
    "  - 유닛이 많으면\n",
    "    - 네트워크는 더 복잡한 표현을 학습\n",
    "    - 계산비용이 많이 들고 원치않는 패턴도 학습\n",
    "    - overfitting : 훈련데이터의 성능을 향상시키지만 테스트에서는 그렇지 못한 상황이 발생할 수 있음"
   ]
  },
  {
   "cell_type": "markdown",
   "id": "32683d65",
   "metadata": {},
   "source": [
    "#### 손실함수\n",
    "  - 손실함수(loss function)\n",
    "    - binary_crossentropy\n",
    "      - 확률을 다루는 데 적합\n",
    "      - 확률분포 간의 거리를 측정 : 정답인 타깃 분포화 예측 분포 사이의 거리\n",
    "    - mean_squared_error : 회귀(regression) 문제에 적합"
   ]
  },
  {
   "cell_type": "code",
   "execution_count": 14,
   "id": "f494f441",
   "metadata": {},
   "outputs": [],
   "source": [
    "model.compile(optimizer='adam',\n",
    "             loss='binary_crossentropy',\n",
    "             metrics=['accuracy'])"
   ]
  },
  {
   "cell_type": "code",
   "execution_count": null,
   "id": "46fd3b9c",
   "metadata": {},
   "outputs": [],
   "source": []
  },
  {
   "cell_type": "markdown",
   "id": "e4194abd",
   "metadata": {},
   "source": [
    "### 06. 검증 셋 만들기 : validation set\n",
    "  - 테스트 전 데이터에서 정확도를 확인\n",
    "  - 10000개의 검증 데이터 셋"
   ]
  },
  {
   "cell_type": "code",
   "execution_count": 15,
   "id": "903744ca",
   "metadata": {},
   "outputs": [],
   "source": [
    "x_val = train_data[:10000]\n",
    "partial_x_train = train_data[10000:]\n",
    "\n",
    "y_val = train_labels[:10000]\n",
    "partial_y_train = train_labels[10000:]"
   ]
  },
  {
   "cell_type": "code",
   "execution_count": null,
   "id": "594c2102",
   "metadata": {},
   "outputs": [],
   "source": []
  },
  {
   "cell_type": "markdown",
   "id": "138dc2dc",
   "metadata": {},
   "source": [
    "### 07. 모델 훈련\n",
    "  - mini_batch : 512\n",
    "  - epoch : 40(반복)"
   ]
  },
  {
   "cell_type": "code",
   "execution_count": 16,
   "id": "998f7f2c",
   "metadata": {},
   "outputs": [
    {
     "name": "stdout",
     "output_type": "stream",
     "text": [
      "Epoch 1/40\n",
      "30/30 [==============================] - 9s 93ms/step - loss: 0.6921 - accuracy: 0.5557 - val_loss: 0.6902 - val_accuracy: 0.7138\n",
      "Epoch 2/40\n",
      "30/30 [==============================] - 2s 67ms/step - loss: 0.6870 - accuracy: 0.7240 - val_loss: 0.6830 - val_accuracy: 0.7136\n",
      "Epoch 3/40\n",
      "30/30 [==============================] - 2s 67ms/step - loss: 0.6754 - accuracy: 0.7553 - val_loss: 0.6683 - val_accuracy: 0.7535\n",
      "Epoch 4/40\n",
      "30/30 [==============================] - 2s 68ms/step - loss: 0.6543 - accuracy: 0.7734 - val_loss: 0.6441 - val_accuracy: 0.7640\n",
      "Epoch 5/40\n",
      "30/30 [==============================] - 2s 67ms/step - loss: 0.6229 - accuracy: 0.7893 - val_loss: 0.6109 - val_accuracy: 0.7827\n",
      "Epoch 6/40\n",
      "30/30 [==============================] - 2s 67ms/step - loss: 0.5831 - accuracy: 0.8071 - val_loss: 0.5716 - val_accuracy: 0.7983\n",
      "Epoch 7/40\n",
      "30/30 [==============================] - 2s 68ms/step - loss: 0.5382 - accuracy: 0.8240 - val_loss: 0.5306 - val_accuracy: 0.8149\n",
      "Epoch 8/40\n",
      "30/30 [==============================] - 2s 71ms/step - loss: 0.4924 - accuracy: 0.8427 - val_loss: 0.4896 - val_accuracy: 0.8292\n",
      "Epoch 9/40\n",
      "30/30 [==============================] - 2s 69ms/step - loss: 0.4491 - accuracy: 0.8561 - val_loss: 0.4532 - val_accuracy: 0.8399\n",
      "Epoch 10/40\n",
      "30/30 [==============================] - 2s 69ms/step - loss: 0.4105 - accuracy: 0.8679 - val_loss: 0.4226 - val_accuracy: 0.8468\n",
      "Epoch 11/40\n",
      "30/30 [==============================] - 2s 69ms/step - loss: 0.3774 - accuracy: 0.8773 - val_loss: 0.3960 - val_accuracy: 0.8562\n",
      "Epoch 12/40\n",
      "30/30 [==============================] - 2s 79ms/step - loss: 0.3488 - accuracy: 0.8855 - val_loss: 0.3757 - val_accuracy: 0.8596\n",
      "Epoch 13/40\n",
      "30/30 [==============================] - 2s 72ms/step - loss: 0.3256 - accuracy: 0.8911 - val_loss: 0.3588 - val_accuracy: 0.8652\n",
      "Epoch 14/40\n",
      "30/30 [==============================] - 2s 73ms/step - loss: 0.3049 - accuracy: 0.8969 - val_loss: 0.3442 - val_accuracy: 0.8711\n",
      "Epoch 15/40\n",
      "30/30 [==============================] - 2s 69ms/step - loss: 0.2868 - accuracy: 0.9015 - val_loss: 0.3334 - val_accuracy: 0.8725\n",
      "Epoch 16/40\n",
      "30/30 [==============================] - 2s 70ms/step - loss: 0.2714 - accuracy: 0.9062 - val_loss: 0.3235 - val_accuracy: 0.8756\n",
      "Epoch 17/40\n",
      "30/30 [==============================] - 2s 70ms/step - loss: 0.2570 - accuracy: 0.9116 - val_loss: 0.3159 - val_accuracy: 0.8763\n",
      "Epoch 18/40\n",
      "30/30 [==============================] - 2s 69ms/step - loss: 0.2443 - accuracy: 0.9160 - val_loss: 0.3094 - val_accuracy: 0.8786\n",
      "Epoch 19/40\n",
      "30/30 [==============================] - 2s 69ms/step - loss: 0.2326 - accuracy: 0.9205 - val_loss: 0.3050 - val_accuracy: 0.8791\n",
      "Epoch 20/40\n",
      "30/30 [==============================] - 2s 71ms/step - loss: 0.2221 - accuracy: 0.9245 - val_loss: 0.2995 - val_accuracy: 0.8817\n",
      "Epoch 21/40\n",
      "30/30 [==============================] - 2s 69ms/step - loss: 0.2119 - accuracy: 0.9283 - val_loss: 0.2964 - val_accuracy: 0.8817\n",
      "Epoch 22/40\n",
      "30/30 [==============================] - 2s 68ms/step - loss: 0.2027 - accuracy: 0.9314 - val_loss: 0.2930 - val_accuracy: 0.8832\n",
      "Epoch 23/40\n",
      "30/30 [==============================] - 2s 69ms/step - loss: 0.1948 - accuracy: 0.9351 - val_loss: 0.2907 - val_accuracy: 0.8845\n",
      "Epoch 24/40\n",
      "30/30 [==============================] - 2s 70ms/step - loss: 0.1865 - accuracy: 0.9383 - val_loss: 0.2885 - val_accuracy: 0.8847: 0.1868 - accuracy: 0.\n",
      "Epoch 25/40\n",
      "30/30 [==============================] - 2s 76ms/step - loss: 0.1784 - accuracy: 0.9424 - val_loss: 0.2889 - val_accuracy: 0.8839\n",
      "Epoch 26/40\n",
      "30/30 [==============================] - 2s 68ms/step - loss: 0.1715 - accuracy: 0.9447 - val_loss: 0.2862 - val_accuracy: 0.8846\n",
      "Epoch 27/40\n",
      "30/30 [==============================] - 2s 69ms/step - loss: 0.1647 - accuracy: 0.9484 - val_loss: 0.2859 - val_accuracy: 0.8851\n",
      "Epoch 28/40\n",
      "30/30 [==============================] - 2s 68ms/step - loss: 0.1585 - accuracy: 0.9501 - val_loss: 0.2873 - val_accuracy: 0.8822loss: 0.1590 - \n",
      "Epoch 29/40\n",
      "30/30 [==============================] - 2s 67ms/step - loss: 0.1524 - accuracy: 0.9526 - val_loss: 0.2855 - val_accuracy: 0.8856\n",
      "Epoch 30/40\n",
      "30/30 [==============================] - 2s 74ms/step - loss: 0.1470 - accuracy: 0.9553 - val_loss: 0.2860 - val_accuracy: 0.8860\n",
      "Epoch 31/40\n",
      "30/30 [==============================] - 2s 68ms/step - loss: 0.1413 - accuracy: 0.9580 - val_loss: 0.2868 - val_accuracy: 0.8863\n",
      "Epoch 32/40\n",
      "30/30 [==============================] - 2s 74ms/step - loss: 0.1360 - accuracy: 0.9599 - val_loss: 0.2879 - val_accuracy: 0.8864 1s - loss: 0.1374 - accuracy: 0.95 - ETA: 0s\n",
      "Epoch 33/40\n",
      "30/30 [==============================] - 2s 70ms/step - loss: 0.1315 - accuracy: 0.9612 - val_loss: 0.2904 - val_accuracy: 0.8854\n",
      "Epoch 34/40\n",
      "30/30 [==============================] - 2s 70ms/step - loss: 0.1264 - accuracy: 0.9637 - val_loss: 0.2909 - val_accuracy: 0.8850 0s - loss: 0.1\n",
      "Epoch 35/40\n",
      "30/30 [==============================] - 2s 68ms/step - loss: 0.1216 - accuracy: 0.9656 - val_loss: 0.2933 - val_accuracy: 0.8857\n",
      "Epoch 36/40\n",
      "30/30 [==============================] - 2s 69ms/step - loss: 0.1173 - accuracy: 0.9669 - val_loss: 0.2946 - val_accuracy: 0.8849\n",
      "Epoch 37/40\n",
      "30/30 [==============================] - 2s 71ms/step - loss: 0.1130 - accuracy: 0.9683 - val_loss: 0.2961 - val_accuracy: 0.8855\n",
      "Epoch 38/40\n",
      "30/30 [==============================] - 2s 68ms/step - loss: 0.1086 - accuracy: 0.9709 - val_loss: 0.2993 - val_accuracy: 0.8846\n",
      "Epoch 39/40\n",
      "30/30 [==============================] - 2s 69ms/step - loss: 0.1053 - accuracy: 0.9712 - val_loss: 0.3027 - val_accuracy: 0.8833\n",
      "Epoch 40/40\n",
      "30/30 [==============================] - 2s 71ms/step - loss: 0.1022 - accuracy: 0.9720 - val_loss: 0.3043 - val_accuracy: 0.8848\n"
     ]
    }
   ],
   "source": [
    "history = model.fit(partial_x_train,\n",
    "                   partial_y_train,\n",
    "                   epochs=40,\n",
    "                   batch_size=512,\n",
    "                   validation_data=(x_val, y_val),\n",
    "                   verbose=1)"
   ]
  },
  {
   "cell_type": "code",
   "execution_count": null,
   "id": "43d17c20",
   "metadata": {},
   "outputs": [],
   "source": []
  },
  {
   "cell_type": "markdown",
   "id": "1833eeb7",
   "metadata": {},
   "source": [
    "### 08. 모델 평가"
   ]
  },
  {
   "cell_type": "code",
   "execution_count": 17,
   "id": "df3a9923",
   "metadata": {},
   "outputs": [
    {
     "name": "stdout",
     "output_type": "stream",
     "text": [
      "782/782 - 2s - loss: 0.3243 - accuracy: 0.8724\n",
      "[0.324274480342865, 0.872439980506897]\n"
     ]
    }
   ],
   "source": [
    "results = model.evaluate(test_data, test_labels, verbose=2)\n",
    "print(results)"
   ]
  },
  {
   "cell_type": "code",
   "execution_count": null,
   "id": "8ddf8ceb",
   "metadata": {},
   "outputs": [],
   "source": []
  },
  {
   "cell_type": "markdown",
   "id": "58f9fe0e",
   "metadata": {},
   "source": [
    "### 09. 정확도와 손실 그래프\n",
    "  - history 객체 : 훈련하는 동안 일어난 모든 정보가 담긴 자료가 포함"
   ]
  },
  {
   "cell_type": "code",
   "execution_count": 18,
   "id": "07db4bd6",
   "metadata": {},
   "outputs": [
    {
     "data": {
      "text/plain": [
       "dict_keys(['loss', 'accuracy', 'val_loss', 'val_accuracy'])"
      ]
     },
     "execution_count": 18,
     "metadata": {},
     "output_type": "execute_result"
    }
   ],
   "source": [
    "history_dict = history.history\n",
    "history_dict.keys()"
   ]
  },
  {
   "cell_type": "code",
   "execution_count": 21,
   "id": "21ba6712",
   "metadata": {},
   "outputs": [
    {
     "data": {
      "image/png": "[encoded data removed]",
      "text/plain": [
       "<Figure size 432x288 with 1 Axes>"
      ]
     },
     "metadata": {
      "needs_background": "light"
     },
     "output_type": "display_data"
    }
   ],
   "source": [
    "import matplotlib.pyplot as plt\n",
    "\n",
    "acc = history_dict['accuracy']\n",
    "val_acc = history_dict['val_accuracy']\n",
    "loss = history_dict['loss']\n",
    "val_loss = history_dict['val_loss']\n",
    "\n",
    "epochs = range(1, len(acc) + 1)\n",
    "\n",
    "# 'bo' 는 파란색 점 입니다.\n",
    "plt.plot(epochs, loss, 'bo', label='Training loss')\n",
    "\n",
    "# 'b'는 파란 실선 입니다.\n",
    "plt.plot(epochs, val_loss, 'b', label='Validation loss')\n",
    "plt.title('Training and validation loss')\n",
    "plt.xlabel('Epochs')\n",
    "plt.ylabel('Loss')\n",
    "plt.legend()\n",
    "\n",
    "plt.show()"
   ]
  },
  {
   "cell_type": "code",
   "execution_count": 22,
   "id": "09c3c543",
   "metadata": {},
   "outputs": [
    {
     "data": {
      "image/png": "[encoded data removed]",
      "text/plain": [
       "<Figure size 432x288 with 1 Axes>"
      ]
     },
     "metadata": {
      "needs_background": "light"
     },
     "output_type": "display_data"
    }
   ],
   "source": [
    "plt.clf()   # 그림을 초기화\n",
    "\n",
    "plt.plot(epochs, acc, 'bo', label='Training acc')\n",
    "plt.plot(epochs, val_acc, 'b', label='Validation acc')\n",
    "plt.title('Training and validation accuracy')\n",
    "plt.xlabel('Epochs')\n",
    "plt.ylabel('Accuracy')\n",
    "plt.legend()\n",
    "\n",
    "plt.show()"
   ]
  },
  {
   "cell_type": "markdown",
   "id": "9ee5af08",
   "metadata": {},
   "source": [
    "#### 과대적합(overfitting)을 막기 위해 epoch=20에서 훈련을 멈추는 것이 좋을 듯\n",
    "  - 콜백(callback)을 사용하여 자동으로 멈추게 하는 방법"
   ]
  },
  {
   "cell_type": "code",
   "execution_count": null,
   "id": "cb528e24",
   "metadata": {},
   "outputs": [],
   "source": []
  }
 ],
 "metadata": {
  "kernelspec": {
   "display_name": "Python 3",
   "language": "python",
   "name": "python3"
  },
  "language_info": {
   "codemirror_mode": {
    "name": "ipython",
    "version": 3
   },
   "file_extension": ".py",
   "mimetype": "text/x-python",
   "name": "python",
   "nbconvert_exporter": "python",
   "pygments_lexer": "ipython3",
   "version": "3.8.8"
  }
 },
 "nbformat": 4,
 "nbformat_minor": 5
}

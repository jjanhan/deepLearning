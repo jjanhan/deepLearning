{
 "cells": [
  {
   "cell_type": "markdown",
   "id": "c3c6147c",
   "metadata": {},
   "source": [
    "### tensorflow 설치"
   ]
  },
  {
   "cell_type": "code",
   "execution_count": 1,
   "id": "e1cb4e11",
   "metadata": {},
   "outputs": [],
   "source": [
    "#!pip install -q tensorflow"
   ]
  },
  {
   "cell_type": "markdown",
   "id": "2f162d38",
   "metadata": {},
   "source": [
    "### tensorflow import : 라이브러리 불러들임\n",
    "### tf 라는 명칭으로 tensorflow 사용"
   ]
  },
  {
   "cell_type": "code",
   "execution_count": 2,
   "id": "3a7bb841",
   "metadata": {},
   "outputs": [],
   "source": [
    "import tensorflow as tf"
   ]
  },
  {
   "cell_type": "markdown",
   "id": "11e2a5c5",
   "metadata": {},
   "source": [
    "### mnist dataset을 로드 : x_train, y_train, x_test, y_test\n",
    "  - x_train : 훈련용 데이터\n",
    "  - y_train : 훈련용 데이터의 label(결과값 : 정답을 의미함)\n",
    "  - x_test : 시험용 데이터\n",
    "  - y_test : 시험용 데이터의 label  \n",
    "    \n",
    "    \n",
    "### x_train, x_test : 0~255까지의 값\n",
    "  - 0~1 사이 값으로 변경"
   ]
  },
  {
   "cell_type": "code",
   "execution_count": 3,
   "id": "30dbc612",
   "metadata": {},
   "outputs": [
    {
     "name": "stdout",
     "output_type": "stream",
     "text": [
      "Downloading data from https://storage.googleapis.com/tensorflow/tf-keras-datasets/mnist.npz\n",
      "11493376/11490434 [==============================] - 2s 0us/step\n"
     ]
    }
   ],
   "source": [
    "mnist = tf.keras.datasets.mnist\n",
    "\n",
    "(x_train, y_train), (x_test, y_test) = mnist.load_data()\n",
    "x_train, x_test = x_train / 255.0, x_test / 255.0"
   ]
  },
  {
   "cell_type": "markdown",
   "id": "f9229b3a",
   "metadata": {},
   "source": [
    "### tf.keras.Sequential 모델을 만듬 : layer를 쌓아서 훈련"
   ]
  },
  {
   "cell_type": "code",
   "execution_count": 6,
   "id": "93a7f69a",
   "metadata": {},
   "outputs": [],
   "source": [
    "model = tf.keras.models.Sequential([\n",
    "    tf.keras.layers.Flatten(input_shape=(28, 28)),\n",
    "    tf.keras.layers.Dense(128, activation='relu'),\n",
    "    tf.keras.layers.Dropout(0.2),\n",
    "    tf.keras.layers.Dense(10, activation='softmax')\n",
    "])\n",
    "\n",
    "model.compile(optimizer='adam',\n",
    "             loss='sparse_categorical_crossentropy',\n",
    "             metrics=['accuracy'])"
   ]
  },
  {
   "cell_type": "markdown",
   "id": "a6cb7ba9",
   "metadata": {},
   "source": [
    "### model.fit : train data로 훈련시킴\n",
    "### model.evaluate : test data와 test label을 통한 정확도 측정"
   ]
  },
  {
   "cell_type": "code",
   "execution_count": 7,
   "id": "9f165aa9",
   "metadata": {},
   "outputs": [
    {
     "name": "stdout",
     "output_type": "stream",
     "text": [
      "Epoch 1/5\n",
      "1875/1875 [==============================] - 14s 5ms/step - loss: 0.2944 - accuracy: 0.9154\n",
      "Epoch 2/5\n",
      "1875/1875 [==============================] - 10s 5ms/step - loss: 0.1425 - accuracy: 0.9579\n",
      "Epoch 3/5\n",
      "1875/1875 [==============================] - 10s 5ms/step - loss: 0.1072 - accuracy: 0.9678\n",
      "Epoch 4/5\n",
      "1875/1875 [==============================] - 10s 5ms/step - loss: 0.0869 - accuracy: 0.9735\n",
      "Epoch 5/5\n",
      "1875/1875 [==============================] - 10s 5ms/step - loss: 0.0745 - accuracy: 0.9770\n",
      "313/313 - 1s - loss: 0.0813 - accuracy: 0.9759\n"
     ]
    },
    {
     "data": {
      "text/plain": [
       "[0.0812513455748558, 0.9758999943733215]"
      ]
     },
     "execution_count": 7,
     "metadata": {},
     "output_type": "execute_result"
    }
   ],
   "source": [
    "model.fit(x_train, y_train, epochs=5)\n",
    "\n",
    "model.evaluate(x_test, y_test, verbose=2)"
   ]
  },
  {
   "cell_type": "code",
   "execution_count": null,
   "id": "77bc89f2",
   "metadata": {},
   "outputs": [],
   "source": []
  }
 ],
 "metadata": {
  "kernelspec": {
   "display_name": "Python 3",
   "language": "python",
   "name": "python3"
  },
  "language_info": {
   "codemirror_mode": {
    "name": "ipython",
    "version": 3
   },
   "file_extension": ".py",
   "mimetype": "text/x-python",
   "name": "python",
   "nbconvert_exporter": "python",
   "pygments_lexer": "ipython3",
   "version": "3.8.8"
  }
 },
 "nbformat": 4,
 "nbformat_minor": 5
}

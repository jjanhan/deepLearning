{
 "cells": [
  {
   "cell_type": "markdown",
   "id": "850b523e",
   "metadata": {},
   "source": [
    "<참조 : https://www.tensorflow.org/tutorials/keras/save_and_load>"
   ]
  },
  {
   "cell_type": "markdown",
   "id": "ae5ecda9",
   "metadata": {},
   "source": [
    "## 모델 저장과 복원 \n",
    "  - 훈련하는 도중이나 훈련이 끝난 후에 모델을 저장\n",
    "    - 훈련이 중지된 지점부터 다시 훈련할 수 있습니다\n",
    "    - 다른 작업자와 공유할 수 있구 작업을 재현할 수 있습니다  \n",
    "      \n",
    "  - 모델을 만드는 코드\n",
    "  - 모델의 훈련된 가중치 / 파라미터"
   ]
  },
  {
   "cell_type": "code",
   "execution_count": null,
   "id": "155bb1df",
   "metadata": {},
   "outputs": [],
   "source": []
  },
  {
   "cell_type": "markdown",
   "id": "b7ca53d7",
   "metadata": {},
   "source": [
    "### 01. 설정과 임포트\n",
    "  - 모델을 저장하기 위한 포맷 지원 라이브러리 설치"
   ]
  },
  {
   "cell_type": "code",
   "execution_count": 1,
   "id": "7403ad13",
   "metadata": {},
   "outputs": [],
   "source": [
    "!pip install -q pyyaml h5py"
   ]
  },
  {
   "cell_type": "code",
   "execution_count": 2,
   "id": "8e57c194",
   "metadata": {},
   "outputs": [
    {
     "name": "stdout",
     "output_type": "stream",
     "text": [
      "2.5.0\n"
     ]
    }
   ],
   "source": [
    "import os\n",
    "\n",
    "import tensorflow as tf\n",
    "from tensorflow import keras\n",
    "\n",
    "print(tf.version.VERSION)"
   ]
  },
  {
   "cell_type": "code",
   "execution_count": null,
   "id": "df0b09fa",
   "metadata": {},
   "outputs": [],
   "source": []
  },
  {
   "cell_type": "markdown",
   "id": "ad9b36ff",
   "metadata": {},
   "source": [
    "####  예제 데이터셋 받기"
   ]
  },
  {
   "cell_type": "code",
   "execution_count": 3,
   "id": "dd5f1dda",
   "metadata": {},
   "outputs": [],
   "source": [
    "(train_images, train_labels), (test_images, test_labels) = tf.keras.datasets.mnist.load_data()\n",
    "\n",
    "train_labels = train_labels[:1000]\n",
    "test_labels = test_labels[:1000]\n",
    "\n",
    "\n",
    "train_images = train_images[:1000].reshape(-1, 28 * 28) / 255.0\n",
    "test_images = test_images[:1000].reshape(-1, 28 * 28) / 255.0"
   ]
  },
  {
   "cell_type": "code",
   "execution_count": null,
   "id": "e5acfd85",
   "metadata": {},
   "outputs": [],
   "source": []
  },
  {
   "cell_type": "markdown",
   "id": "f8f32b52",
   "metadata": {},
   "source": [
    "### 02. 모델 정의"
   ]
  },
  {
   "cell_type": "code",
   "execution_count": 4,
   "id": "ae5bbc60",
   "metadata": {},
   "outputs": [
    {
     "name": "stdout",
     "output_type": "stream",
     "text": [
      "Model: \"sequential\"\n",
      "_________________________________________________________________\n",
      "Layer (type)                 Output Shape              Param #   \n",
      "=================================================================\n",
      "dense (Dense)                (None, 512)               401920    \n",
      "_________________________________________________________________\n",
      "dropout (Dropout)            (None, 512)               0         \n",
      "_________________________________________________________________\n",
      "dense_1 (Dense)              (None, 10)                5130      \n",
      "=================================================================\n",
      "Total params: 407,050\n",
      "Trainable params: 407,050\n",
      "Non-trainable params: 0\n",
      "_________________________________________________________________\n"
     ]
    }
   ],
   "source": [
    "def create_model():\n",
    "    model = tf.keras.models.Sequential([\n",
    "        keras.layers.Dense(512, activation='relu', input_shape=(784,)),\n",
    "        keras.layers.Dropout(0.2),\n",
    "        keras.layers.Dense(10)\n",
    "    ])\n",
    "    \n",
    "    model.compile(optimizer='adam',\n",
    "                 loss=tf.losses.SparseCategoricalCrossentropy(from_logits=True),\n",
    "                 metrics=['accuracy'])\n",
    "    \n",
    "    return model\n",
    "\n",
    "# 모델 객체를 만듭니다\n",
    "model = create_model()\n",
    "\n",
    "# 모델 구조를 출력합니다\n",
    "model.summary()"
   ]
  },
  {
   "cell_type": "code",
   "execution_count": null,
   "id": "1da74f59",
   "metadata": {},
   "outputs": [],
   "source": []
  },
  {
   "cell_type": "markdown",
   "id": "5c2348fe",
   "metadata": {},
   "source": [
    "### 03. 훈련하는 동안 체크포인트 저장하기\n",
    "  - 훈련 중간과 훈련 마지막에 체크포인트(checkpoint)를 자동으로 저장\n",
    "  - 모델을 재사용하거나 이어서 훈련을 진행할 수 있습니다"
   ]
  },
  {
   "cell_type": "markdown",
   "id": "d8e9e6a5",
   "metadata": {},
   "source": [
    "### 03. 01. 체크포인트 콜백 사용하기\n",
    "  - 훈련하는 동안 가중치를 저장하기 위해 ModelCheckpoint 콜백을 만듭니다"
   ]
  },
  {
   "cell_type": "code",
   "execution_count": 5,
   "id": "7b96f689",
   "metadata": {},
   "outputs": [
    {
     "name": "stdout",
     "output_type": "stream",
     "text": [
      "Epoch 1/10\n",
      "32/32 [==============================] - 6s 48ms/step - loss: 1.2196 - accuracy: 0.6430 - val_loss: 0.7373 - val_accuracy: 0.7820\n",
      "\n",
      "Epoch 00001: saving model to training_1\\cp.ckpt\n",
      "Epoch 2/10\n",
      "32/32 [==============================] - 1s 25ms/step - loss: 0.4517 - accuracy: 0.8760 - val_loss: 0.6355 - val_accuracy: 0.7910\n",
      "\n",
      "Epoch 00002: saving model to training_1\\cp.ckpt\n",
      "Epoch 3/10\n",
      "32/32 [==============================] - 1s 24ms/step - loss: 0.3084 - accuracy: 0.9120 - val_loss: 0.4975 - val_accuracy: 0.8400\n",
      "\n",
      "Epoch 00003: saving model to training_1\\cp.ckpt\n",
      "Epoch 4/10\n",
      "32/32 [==============================] - 1s 23ms/step - loss: 0.2155 - accuracy: 0.9490 - val_loss: 0.4705 - val_accuracy: 0.8480\n",
      "\n",
      "Epoch 00004: saving model to training_1\\cp.ckpt\n",
      "Epoch 5/10\n",
      "32/32 [==============================] - 1s 24ms/step - loss: 0.1652 - accuracy: 0.9600 - val_loss: 0.4337 - val_accuracy: 0.8570\n",
      "\n",
      "Epoch 00005: saving model to training_1\\cp.ckpt\n",
      "Epoch 6/10\n",
      "32/32 [==============================] - 1s 24ms/step - loss: 0.1236 - accuracy: 0.9790 - val_loss: 0.4310 - val_accuracy: 0.8650\n",
      "\n",
      "Epoch 00006: saving model to training_1\\cp.ckpt\n",
      "Epoch 7/10\n",
      "32/32 [==============================] - 1s 24ms/step - loss: 0.0952 - accuracy: 0.9840 - val_loss: 0.4127 - val_accuracy: 0.8610\n",
      "\n",
      "Epoch 00007: saving model to training_1\\cp.ckpt\n",
      "Epoch 8/10\n",
      "32/32 [==============================] - 1s 24ms/step - loss: 0.0681 - accuracy: 0.9950 - val_loss: 0.3999 - val_accuracy: 0.8650\n",
      "\n",
      "Epoch 00008: saving model to training_1\\cp.ckpt\n",
      "Epoch 9/10\n",
      "32/32 [==============================] - 1s 24ms/step - loss: 0.0535 - accuracy: 0.9950 - val_loss: 0.4066 - val_accuracy: 0.8700\n",
      "\n",
      "Epoch 00009: saving model to training_1\\cp.ckpt\n",
      "Epoch 10/10\n",
      "32/32 [==============================] - 1s 25ms/step - loss: 0.0407 - accuracy: 1.0000 - val_loss: 0.4029 - val_accuracy: 0.8700\n",
      "\n",
      "Epoch 00010: saving model to training_1\\cp.ckpt\n"
     ]
    },
    {
     "data": {
      "text/plain": [
       "<tensorflow.python.keras.callbacks.History at 0x12e6ee340>"
      ]
     },
     "execution_count": 5,
     "metadata": {},
     "output_type": "execute_result"
    }
   ],
   "source": [
    "checkpoint_path = 'training_1/cp.ckpt'\n",
    "checkpoint_dir = os.path.dirname(checkpoint_path)\n",
    "\n",
    "# 모델의 가중치를 저장하는 콜백 만들기\n",
    "cp_callback = tf.keras.callbacks.ModelCheckpoint(filepath=checkpoint_path,\n",
    "                                                save_weights_only=True,\n",
    "                                                verbose=1)\n",
    "\n",
    "# 새로운 콜랩으로 모델 훈련하기\n",
    "model.fit(train_images,\n",
    "         train_labels,\n",
    "         epochs=10,\n",
    "         validation_data=(test_images, test_labels),\n",
    "         callbacks=[cp_callback])    # 콜백을 훈련에 전달합니다"
   ]
  },
  {
   "cell_type": "code",
   "execution_count": 7,
   "id": "de6f52ec",
   "metadata": {},
   "outputs": [
    {
     "name": "stdout",
     "output_type": "stream",
     "text": [
      " C 드라이브의 볼륨에는 이름이 없습니다.\n",
      " 볼륨 일련 번호: F2C2-2A72\n",
      "\n",
      " C:\\Users\\jjanh_000\\python\\deepLearning\\tensorflowTutorial\\training_1 디렉터리\n",
      "\n",
      "2021-07-05  오전 10:24    <DIR>          .\n",
      "2021-07-05  오전 10:24    <DIR>          ..\n",
      "2021-07-05  오전 10:24                71 checkpoint\n",
      "2021-07-05  오전 10:24         4,886,673 cp.ckpt.data-00000-of-00001\n",
      "2021-07-05  오전 10:24             1,222 cp.ckpt.index\n",
      "               3개 파일           4,887,966 바이트\n",
      "               2개 디렉터리  831,197,618,176 바이트 남음\n"
     ]
    }
   ],
   "source": [
    "ls {checkpoint_dir}"
   ]
  },
  {
   "cell_type": "code",
   "execution_count": null,
   "id": "4f2e5166",
   "metadata": {},
   "outputs": [],
   "source": []
  },
  {
   "cell_type": "code",
   "execution_count": 9,
   "id": "f2f6dcd1",
   "metadata": {},
   "outputs": [
    {
     "name": "stdout",
     "output_type": "stream",
     "text": [
      "32/32 - 1s - loss: 2.3505 - accuracy: 0.1060\n",
      "훈련되지 않은 모델의 정확도: 10.60%\n"
     ]
    }
   ],
   "source": [
    "# 기본 모델 객체를 만듭니다\n",
    "model = create_model()\n",
    "\n",
    "# 모델을 평가합니다\n",
    "loss, acc = model.evaluate(test_images, test_labels, verbose=2)\n",
    "print('훈련되지 않은 모델의 정확도: {:5.2f}%'.format(100*acc))"
   ]
  },
  {
   "cell_type": "code",
   "execution_count": 10,
   "id": "76828c03",
   "metadata": {},
   "outputs": [
    {
     "name": "stdout",
     "output_type": "stream",
     "text": [
      "32/32 - 0s - loss: 0.4029 - accuracy: 0.8700\n",
      "복원된 모델의 정확도: 87.00%\n"
     ]
    }
   ],
   "source": [
    "# 가중치 로드\n",
    "model.load_weights(checkpoint_path)\n",
    "\n",
    "# 모델 재평가\n",
    "loss, acc = model.evaluate(test_images, test_labels, verbose=2)\n",
    "print('복원된 모델의 정확도: {:5.2f}%'.format(100*acc))"
   ]
  },
  {
   "cell_type": "code",
   "execution_count": null,
   "id": "d2c81cd0",
   "metadata": {},
   "outputs": [],
   "source": []
  },
  {
   "cell_type": "markdown",
   "id": "973762ed",
   "metadata": {},
   "source": [
    "### 03. 02. 체크포인트 콜백 매개변수\n",
    "  - 새로운 모델을 훈련하고 에포크마다 고유한 이름으로 체크포인트를 저장"
   ]
  },
  {
   "cell_type": "code",
   "execution_count": 14,
   "id": "7de953ae",
   "metadata": {},
   "outputs": [
    {
     "name": "stdout",
     "output_type": "stream",
     "text": [
      "WARNING:tensorflow:Unresolved object in checkpoint: (root).optimizer.iter\n",
      "WARNING:tensorflow:Unresolved object in checkpoint: (root).optimizer.beta_1\n",
      "WARNING:tensorflow:Unresolved object in checkpoint: (root).optimizer.beta_2\n",
      "WARNING:tensorflow:Unresolved object in checkpoint: (root).optimizer.decay\n",
      "WARNING:tensorflow:Unresolved object in checkpoint: (root).optimizer.learning_rate\n",
      "WARNING:tensorflow:A checkpoint was restored (e.g. tf.train.Checkpoint.restore or tf.keras.Model.load_weights) but not all checkpointed values were used. See above for specific issues. Use expect_partial() on the load status object, e.g. tf.train.Checkpoint.restore(...).expect_partial(), to silence these warnings, or use assert_consumed() to make the check explicit. See https://www.tensorflow.org/guide/checkpoint#loading_mechanics for details.\n",
      "\n",
      "Epoch 00001: saving model to training_2\\cp-0001.ckpt\n",
      "\n",
      "Epoch 00002: saving model to training_2\\cp-0002.ckpt\n",
      "\n",
      "Epoch 00003: saving model to training_2\\cp-0003.ckpt\n",
      "\n",
      "Epoch 00004: saving model to training_2\\cp-0004.ckpt\n",
      "\n",
      "Epoch 00005: saving model to training_2\\cp-0005.ckpt\n",
      "\n",
      "Epoch 00006: saving model to training_2\\cp-0006.ckpt\n",
      "\n",
      "Epoch 00007: saving model to training_2\\cp-0007.ckpt\n",
      "\n",
      "Epoch 00008: saving model to training_2\\cp-0008.ckpt\n",
      "\n",
      "Epoch 00009: saving model to training_2\\cp-0009.ckpt\n",
      "\n",
      "Epoch 00010: saving model to training_2\\cp-0010.ckpt\n",
      "\n",
      "Epoch 00011: saving model to training_2\\cp-0011.ckpt\n",
      "\n",
      "Epoch 00012: saving model to training_2\\cp-0012.ckpt\n",
      "\n",
      "Epoch 00013: saving model to training_2\\cp-0013.ckpt\n",
      "\n",
      "Epoch 00014: saving model to training_2\\cp-0014.ckpt\n",
      "\n",
      "Epoch 00015: saving model to training_2\\cp-0015.ckpt\n",
      "\n",
      "Epoch 00016: saving model to training_2\\cp-0016.ckpt\n",
      "\n",
      "Epoch 00017: saving model to training_2\\cp-0017.ckpt\n",
      "\n",
      "Epoch 00018: saving model to training_2\\cp-0018.ckpt\n",
      "\n",
      "Epoch 00019: saving model to training_2\\cp-0019.ckpt\n",
      "\n",
      "Epoch 00020: saving model to training_2\\cp-0020.ckpt\n",
      "\n",
      "Epoch 00021: saving model to training_2\\cp-0021.ckpt\n",
      "\n",
      "Epoch 00022: saving model to training_2\\cp-0022.ckpt\n",
      "\n",
      "Epoch 00023: saving model to training_2\\cp-0023.ckpt\n",
      "\n",
      "Epoch 00024: saving model to training_2\\cp-0024.ckpt\n",
      "\n",
      "Epoch 00025: saving model to training_2\\cp-0025.ckpt\n",
      "\n",
      "Epoch 00026: saving model to training_2\\cp-0026.ckpt\n",
      "\n",
      "Epoch 00027: saving model to training_2\\cp-0027.ckpt\n",
      "\n",
      "Epoch 00028: saving model to training_2\\cp-0028.ckpt\n",
      "\n",
      "Epoch 00029: saving model to training_2\\cp-0029.ckpt\n",
      "\n",
      "Epoch 00030: saving model to training_2\\cp-0030.ckpt\n",
      "\n",
      "Epoch 00031: saving model to training_2\\cp-0031.ckpt\n",
      "\n",
      "Epoch 00032: saving model to training_2\\cp-0032.ckpt\n",
      "\n",
      "Epoch 00033: saving model to training_2\\cp-0033.ckpt\n",
      "\n",
      "Epoch 00034: saving model to training_2\\cp-0034.ckpt\n",
      "\n",
      "Epoch 00035: saving model to training_2\\cp-0035.ckpt\n",
      "\n",
      "Epoch 00036: saving model to training_2\\cp-0036.ckpt\n",
      "\n",
      "Epoch 00037: saving model to training_2\\cp-0037.ckpt\n",
      "\n",
      "Epoch 00038: saving model to training_2\\cp-0038.ckpt\n",
      "\n",
      "Epoch 00039: saving model to training_2\\cp-0039.ckpt\n",
      "\n",
      "Epoch 00040: saving model to training_2\\cp-0040.ckpt\n",
      "\n",
      "Epoch 00041: saving model to training_2\\cp-0041.ckpt\n",
      "\n",
      "Epoch 00042: saving model to training_2\\cp-0042.ckpt\n",
      "\n",
      "Epoch 00043: saving model to training_2\\cp-0043.ckpt\n",
      "\n",
      "Epoch 00044: saving model to training_2\\cp-0044.ckpt\n",
      "\n",
      "Epoch 00045: saving model to training_2\\cp-0045.ckpt\n",
      "\n",
      "Epoch 00046: saving model to training_2\\cp-0046.ckpt\n",
      "\n",
      "Epoch 00047: saving model to training_2\\cp-0047.ckpt\n",
      "\n",
      "Epoch 00048: saving model to training_2\\cp-0048.ckpt\n",
      "\n",
      "Epoch 00049: saving model to training_2\\cp-0049.ckpt\n",
      "\n",
      "Epoch 00050: saving model to training_2\\cp-0050.ckpt\n"
     ]
    },
    {
     "data": {
      "text/plain": [
       "<tensorflow.python.keras.callbacks.History at 0x133097fd0>"
      ]
     },
     "execution_count": 14,
     "metadata": {},
     "output_type": "execute_result"
    }
   ],
   "source": [
    "# 파일 이름에 에포크 번호를 포함시킵니다('str.format' 포뱃)\n",
    "checkpoint_path = 'training_2/cp-{epoch:04d}.ckpt'\n",
    "checkpoint_dir = os.path.dirname(checkpoint_path)\n",
    "\n",
    "# 다섯 번째 에포크마다 가중치를 저장하기 위한 콜백을 만듭니다\n",
    "cp_callback = tf.keras.callbacks.ModelCheckpoint(\n",
    "    filepath=checkpoint_path,\n",
    "    verbose=1,\n",
    "    save_weights_only=True,\n",
    "    preiod=5\n",
    ")\n",
    "\n",
    "# 새로운 모델 객체를 만듭니다\n",
    "model = create_model()\n",
    "\n",
    "# 'checkpoint_path' 포맷을 사용하는 가중치를 저장합니다\n",
    "model.save_weights(checkpoint_path.format(epoch=0))\n",
    "\n",
    "# 새로운 콜백을 사용하여 모델을 훈련합니다\n",
    "model.fit(train_images,\n",
    "         train_labels,\n",
    "         epochs=50,\n",
    "         callbacks=[cp_callback],\n",
    "         validation_data=(test_images, test_labels),\n",
    "         verbose=0)"
   ]
  },
  {
   "cell_type": "code",
   "execution_count": 15,
   "id": "6ad145ba",
   "metadata": {},
   "outputs": [
    {
     "name": "stdout",
     "output_type": "stream",
     "text": [
      " C 드라이브의 볼륨에는 이름이 없습니다.\n",
      " 볼륨 일련 번호: F2C2-2A72\n",
      "\n",
      " C:\\Users\\jjanh_000\\python\\deepLearning\\tensorflowTutorial\\training_2 디렉터리\n",
      "\n",
      "2021-07-05  오전 10:37    <DIR>          .\n",
      "2021-07-05  오전 10:37    <DIR>          ..\n",
      "2021-07-05  오전 10:37                81 checkpoint\n",
      "2021-07-05  오전 10:35         1,628,730 cp-0000.ckpt.data-00000-of-00001\n",
      "2021-07-05  오전 10:35               402 cp-0000.ckpt.index\n",
      "2021-07-05  오전 10:36         4,886,697 cp-0001.ckpt.data-00000-of-00001\n",
      "2021-07-05  오전 10:36             1,222 cp-0001.ckpt.index\n",
      "2021-07-05  오전 10:36         4,886,697 cp-0002.ckpt.data-00000-of-00001\n",
      "2021-07-05  오전 10:36             1,222 cp-0002.ckpt.index\n",
      "2021-07-05  오전 10:36         4,886,697 cp-0003.ckpt.data-00000-of-00001\n",
      "2021-07-05  오전 10:36             1,222 cp-0003.ckpt.index\n",
      "2021-07-05  오전 10:36         4,886,697 cp-0004.ckpt.data-00000-of-00001\n",
      "2021-07-05  오전 10:36             1,222 cp-0004.ckpt.index\n",
      "2021-07-05  오전 10:36         4,886,697 cp-0005.ckpt.data-00000-of-00001\n",
      "2021-07-05  오전 10:36             1,222 cp-0005.ckpt.index\n",
      "2021-07-05  오전 10:36         4,886,697 cp-0006.ckpt.data-00000-of-00001\n",
      "2021-07-05  오전 10:36             1,222 cp-0006.ckpt.index\n",
      "2021-07-05  오전 10:36         4,886,697 cp-0007.ckpt.data-00000-of-00001\n",
      "2021-07-05  오전 10:36             1,222 cp-0007.ckpt.index\n",
      "2021-07-05  오전 10:36         4,886,697 cp-0008.ckpt.data-00000-of-00001\n",
      "2021-07-05  오전 10:36             1,222 cp-0008.ckpt.index\n",
      "2021-07-05  오전 10:36         4,886,697 cp-0009.ckpt.data-00000-of-00001\n",
      "2021-07-05  오전 10:36             1,222 cp-0009.ckpt.index\n",
      "2021-07-05  오전 10:36         4,886,697 cp-0010.ckpt.data-00000-of-00001\n",
      "2021-07-05  오전 10:36             1,222 cp-0010.ckpt.index\n",
      "2021-07-05  오전 10:36         4,886,697 cp-0011.ckpt.data-00000-of-00001\n",
      "2021-07-05  오전 10:36             1,222 cp-0011.ckpt.index\n",
      "2021-07-05  오전 10:36         4,886,697 cp-0012.ckpt.data-00000-of-00001\n",
      "2021-07-05  오전 10:36             1,222 cp-0012.ckpt.index\n",
      "2021-07-05  오전 10:36         4,886,697 cp-0013.ckpt.data-00000-of-00001\n",
      "2021-07-05  오전 10:36             1,222 cp-0013.ckpt.index\n",
      "2021-07-05  오전 10:36         4,886,697 cp-0014.ckpt.data-00000-of-00001\n",
      "2021-07-05  오전 10:36             1,222 cp-0014.ckpt.index\n",
      "2021-07-05  오전 10:36         4,886,697 cp-0015.ckpt.data-00000-of-00001\n",
      "2021-07-05  오전 10:36             1,222 cp-0015.ckpt.index\n",
      "2021-07-05  오전 10:36         4,886,697 cp-0016.ckpt.data-00000-of-00001\n",
      "2021-07-05  오전 10:36             1,222 cp-0016.ckpt.index\n",
      "2021-07-05  오전 10:36         4,886,697 cp-0017.ckpt.data-00000-of-00001\n",
      "2021-07-05  오전 10:36             1,222 cp-0017.ckpt.index\n",
      "2021-07-05  오전 10:36         4,886,697 cp-0018.ckpt.data-00000-of-00001\n",
      "2021-07-05  오전 10:36             1,222 cp-0018.ckpt.index\n",
      "2021-07-05  오전 10:36         4,886,697 cp-0019.ckpt.data-00000-of-00001\n",
      "2021-07-05  오전 10:36             1,222 cp-0019.ckpt.index\n",
      "2021-07-05  오전 10:36         4,886,697 cp-0020.ckpt.data-00000-of-00001\n",
      "2021-07-05  오전 10:36             1,222 cp-0020.ckpt.index\n",
      "2021-07-05  오전 10:36         4,886,697 cp-0021.ckpt.data-00000-of-00001\n",
      "2021-07-05  오전 10:36             1,222 cp-0021.ckpt.index\n",
      "2021-07-05  오전 10:36         4,886,697 cp-0022.ckpt.data-00000-of-00001\n",
      "2021-07-05  오전 10:36             1,222 cp-0022.ckpt.index\n",
      "2021-07-05  오전 10:36         4,886,697 cp-0023.ckpt.data-00000-of-00001\n",
      "2021-07-05  오전 10:36             1,222 cp-0023.ckpt.index\n",
      "2021-07-05  오전 10:36         4,886,697 cp-0024.ckpt.data-00000-of-00001\n",
      "2021-07-05  오전 10:36             1,222 cp-0024.ckpt.index\n",
      "2021-07-05  오전 10:36         4,886,697 cp-0025.ckpt.data-00000-of-00001\n",
      "2021-07-05  오전 10:36             1,222 cp-0025.ckpt.index\n",
      "2021-07-05  오전 10:36         4,886,697 cp-0026.ckpt.data-00000-of-00001\n",
      "2021-07-05  오전 10:36             1,222 cp-0026.ckpt.index\n",
      "2021-07-05  오전 10:36         4,886,697 cp-0027.ckpt.data-00000-of-00001\n",
      "2021-07-05  오전 10:36             1,222 cp-0027.ckpt.index\n",
      "2021-07-05  오전 10:36         4,886,697 cp-0028.ckpt.data-00000-of-00001\n",
      "2021-07-05  오전 10:36             1,222 cp-0028.ckpt.index\n",
      "2021-07-05  오전 10:36         4,886,697 cp-0029.ckpt.data-00000-of-00001\n",
      "2021-07-05  오전 10:36             1,222 cp-0029.ckpt.index\n",
      "2021-07-05  오전 10:36         4,886,697 cp-0030.ckpt.data-00000-of-00001\n",
      "2021-07-05  오전 10:36             1,222 cp-0030.ckpt.index\n",
      "2021-07-05  오전 10:36         4,886,697 cp-0031.ckpt.data-00000-of-00001\n",
      "2021-07-05  오전 10:36             1,222 cp-0031.ckpt.index\n",
      "2021-07-05  오전 10:36         4,886,697 cp-0032.ckpt.data-00000-of-00001\n",
      "2021-07-05  오전 10:36             1,222 cp-0032.ckpt.index\n",
      "2021-07-05  오전 10:36         4,886,697 cp-0033.ckpt.data-00000-of-00001\n",
      "2021-07-05  오전 10:36             1,222 cp-0033.ckpt.index\n",
      "2021-07-05  오전 10:36         4,886,697 cp-0034.ckpt.data-00000-of-00001\n",
      "2021-07-05  오전 10:36             1,222 cp-0034.ckpt.index\n",
      "2021-07-05  오전 10:36         4,886,697 cp-0035.ckpt.data-00000-of-00001\n",
      "2021-07-05  오전 10:36             1,222 cp-0035.ckpt.index\n",
      "2021-07-05  오전 10:36         4,886,697 cp-0036.ckpt.data-00000-of-00001\n",
      "2021-07-05  오전 10:36             1,222 cp-0036.ckpt.index\n",
      "2021-07-05  오전 10:36         4,886,697 cp-0037.ckpt.data-00000-of-00001\n",
      "2021-07-05  오전 10:36             1,222 cp-0037.ckpt.index\n",
      "2021-07-05  오전 10:36         4,886,697 cp-0038.ckpt.data-00000-of-00001\n",
      "2021-07-05  오전 10:36             1,222 cp-0038.ckpt.index\n",
      "2021-07-05  오전 10:36         4,886,697 cp-0039.ckpt.data-00000-of-00001\n",
      "2021-07-05  오전 10:36             1,222 cp-0039.ckpt.index\n",
      "2021-07-05  오전 10:36         4,886,697 cp-0040.ckpt.data-00000-of-00001\n",
      "2021-07-05  오전 10:36             1,222 cp-0040.ckpt.index\n",
      "2021-07-05  오전 10:36         4,886,697 cp-0041.ckpt.data-00000-of-00001\n",
      "2021-07-05  오전 10:36             1,222 cp-0041.ckpt.index\n",
      "2021-07-05  오전 10:36         4,886,697 cp-0042.ckpt.data-00000-of-00001\n",
      "2021-07-05  오전 10:36             1,222 cp-0042.ckpt.index\n",
      "2021-07-05  오전 10:36         4,886,697 cp-0043.ckpt.data-00000-of-00001\n",
      "2021-07-05  오전 10:36             1,222 cp-0043.ckpt.index\n",
      "2021-07-05  오전 10:36         4,886,697 cp-0044.ckpt.data-00000-of-00001\n",
      "2021-07-05  오전 10:36             1,222 cp-0044.ckpt.index\n",
      "2021-07-05  오전 10:36         4,886,697 cp-0045.ckpt.data-00000-of-00001\n",
      "2021-07-05  오전 10:36             1,222 cp-0045.ckpt.index\n",
      "2021-07-05  오전 10:36         4,886,697 cp-0046.ckpt.data-00000-of-00001\n",
      "2021-07-05  오전 10:36             1,222 cp-0046.ckpt.index\n",
      "2021-07-05  오전 10:36         4,886,697 cp-0047.ckpt.data-00000-of-00001\n",
      "2021-07-05  오전 10:36             1,222 cp-0047.ckpt.index\n",
      "2021-07-05  오전 10:37         4,886,697 cp-0048.ckpt.data-00000-of-00001\n",
      "2021-07-05  오전 10:37             1,222 cp-0048.ckpt.index\n",
      "2021-07-05  오전 10:37         4,886,697 cp-0049.ckpt.data-00000-of-00001\n",
      "2021-07-05  오전 10:37             1,222 cp-0049.ckpt.index\n",
      "2021-07-05  오전 10:37         4,886,697 cp-0050.ckpt.data-00000-of-00001\n",
      "2021-07-05  오전 10:37             1,222 cp-0050.ckpt.index\n",
      "             103개 파일         246,025,163 바이트\n",
      "               2개 디렉터리  830,917,840,896 바이트 남음\n"
     ]
    }
   ],
   "source": [
    "ls {checkpoint_dir}"
   ]
  },
  {
   "cell_type": "code",
   "execution_count": 16,
   "id": "7832de11",
   "metadata": {},
   "outputs": [
    {
     "data": {
      "text/plain": [
       "'training_2\\\\cp-0050.ckpt'"
      ]
     },
     "execution_count": 16,
     "metadata": {},
     "output_type": "execute_result"
    }
   ],
   "source": [
    "latest = tf.train.latest_checkpoint(checkpoint_dir)\n",
    "latest"
   ]
  },
  {
   "cell_type": "markdown",
   "id": "1d60295d",
   "metadata": {},
   "source": [
    "#### 텐서플로는 기본적으로 최근 체크포인트 5개만 저장합니다\n",
    "  - 모델을 초기화하고 체크포인트를 로드하여 테스트\n",
    " "
   ]
  },
  {
   "cell_type": "code",
   "execution_count": 17,
   "id": "0acd33c2",
   "metadata": {},
   "outputs": [
    {
     "name": "stdout",
     "output_type": "stream",
     "text": [
      "32/32 - 1s - loss: 0.4808 - accuracy: 0.8710\n",
      "복원된 모델의 정확도: 87.10%\n"
     ]
    }
   ],
   "source": [
    "# 새로운 모델 객체를 만듭니다.\n",
    "model =create_model()\n",
    "\n",
    "# 이전에 저장한 가중치를 로드합니다\n",
    "model.load_weights(latest)\n",
    "\n",
    "# 모델을 재평가합니다\n",
    "loss, acc = model.evaluate(test_images, test_labels, verbose=2)\n",
    "print('복원된 모델의 정확도: {:5.2f}%'.format(100*acc))"
   ]
  },
  {
   "cell_type": "code",
   "execution_count": null,
   "id": "7d9ca4fd",
   "metadata": {},
   "outputs": [],
   "source": []
  },
  {
   "cell_type": "markdown",
   "id": "19279a06",
   "metadata": {},
   "source": [
    "### 03. 03. 수동으로 가중치 저장하기\n",
    "  - Model.save_weights 메서드 사용\n",
    "  - tf.keras : save_weights는 \".ckpt\" 확장자를 가진 텐서플로 체크포인트 포맷을 사용\n",
    "  - \".h5\" 확장자의 HDF5로 저장하는 것은 별도 : https://www.tensorflow.org/guide/keras/save_and_serialize#weights_only_saving_in_savedmodel_format"
   ]
  },
  {
   "cell_type": "code",
   "execution_count": 18,
   "id": "411416a6",
   "metadata": {},
   "outputs": [
    {
     "name": "stdout",
     "output_type": "stream",
     "text": [
      "32/32 - 1s - loss: 0.4808 - accuracy: 0.8710\n",
      "복원된 모델의 정확도: 87.10%\n"
     ]
    }
   ],
   "source": [
    "# 가중치를 저장합니다\n",
    "model.save_weights('./checkpoints/my_checkpoint')\n",
    "\n",
    "# 새로운 모델 객체를 만듭니다\n",
    "model = create_model()\n",
    "\n",
    "# 가중치를 복원합니다\n",
    "model.load_weights('./checkpoints/my_checkpoint')\n",
    "\n",
    "# 모델을 평가합니다. \n",
    "loss, acc = model.evaluate(test_images, test_labels, verbose=2)\n",
    "\n",
    "print('복원된 모델의 정확도: {:5.2f}%'.format(100*acc))"
   ]
  },
  {
   "cell_type": "code",
   "execution_count": null,
   "id": "3d71a9be",
   "metadata": {},
   "outputs": [],
   "source": [
    "\n"
   ]
  },
  {
   "cell_type": "code",
   "execution_count": null,
   "id": "4a144367",
   "metadata": {},
   "outputs": [],
   "source": []
  },
  {
   "cell_type": "markdown",
   "id": "c2e143cb",
   "metadata": {},
   "source": [
    "### 04. 전체 모델 저장하기\n",
    "  - model.save 메서드 호출\n",
    "    - 모델의 구조, 가중치, 훈련 설정을 하나의 파일/폴더에 저장합니다\n",
    "    - 모델을 저장하기 때문에 원본 파이썬 코드가 없ㅇ도 사용할 수 있습니다\n",
    "    - 옵티마이저 상태가 복원되므로 중지한 시점에서 다시 훈련을 재개할 수 있습니다  \n",
    "      \n",
    "        \n",
    "  - SavedModel / HDF5 : 두 개 모델로 저장할 수 있습니다  \n",
    "    \n",
    "      \n",
    "  - 전체 모델 저장\n",
    "    - TensorFlow.js로 모델을 로드\n",
    "    - 웹 브라우저에서 모델을 훈련하고 실행할 수 있습니다 : Saved Model / HDF5\n",
    "    - 모바일 장치에 맞도록 변환한 다음 TensorFlow Lite를 사용하여 실행할 수 있습니다\n",
    "   "
   ]
  },
  {
   "cell_type": "markdown",
   "id": "d0733dbd",
   "metadata": {},
   "source": [
    "#### 04. 01. SavedModel 포맷\n",
    "  - 모델을 직렬화 하는 다른 방법\n",
    "  - tf.keras.models.load_model 로 복원할 수 있습니다 / 텐서플로 서빙과 호환됩니다\n",
    "  - https://www.tensorflow.org/guide/saved_model"
   ]
  },
  {
   "cell_type": "code",
   "execution_count": 19,
   "id": "1975bcf3",
   "metadata": {},
   "outputs": [
    {
     "name": "stdout",
     "output_type": "stream",
     "text": [
      "Epoch 1/5\n",
      "32/32 [==============================] - 2s 15ms/step - loss: 1.1288 - accuracy: 0.6850\n",
      "Epoch 2/5\n",
      "32/32 [==============================] - 0s 15ms/step - loss: 0.4239 - accuracy: 0.8850 0s - loss: 0.4339 - accuracy\n",
      "Epoch 3/5\n",
      "32/32 [==============================] - 1s 16ms/step - loss: 0.2805 - accuracy: 0.9280\n",
      "Epoch 4/5\n",
      "32/32 [==============================] - 1s 16ms/step - loss: 0.2077 - accuracy: 0.9540\n",
      "Epoch 5/5\n",
      "32/32 [==============================] - 1s 17ms/step - loss: 0.1499 - accuracy: 0.9700\n",
      "INFO:tensorflow:Assets written to: saved_model/my_model\\assets\n"
     ]
    }
   ],
   "source": [
    "# 새로운 모델 객체를 만들고 훈련합니다\n",
    "model = create_model()\n",
    "model.fit(train_images, train_labels, epochs=5)\n",
    "\n",
    "# SavedModel로 전체 모델을 저장합니다\n",
    "!mkdir -p saved_model\n",
    "model.save('saved_model/my_model')"
   ]
  },
  {
   "cell_type": "code",
   "execution_count": 25,
   "id": "6fc6fb00",
   "metadata": {},
   "outputs": [
    {
     "name": "stdout",
     "output_type": "stream",
     "text": [
      "['my_model']\n",
      "['assets', 'keras_metadata.pb', 'saved_model.pb', 'variables']\n"
     ]
    }
   ],
   "source": [
    "# my_model 디렉토리\n",
    "print(os.listdir(\"./saved_model\"))\n",
    "# ls ./saved_model\n",
    "\n",
    "# assests 폴더, saved_model.pb, variables 폴더\n",
    "print(os.listdir(\"./saved_model/my_model\"))\n",
    "# ls {./saved_model/my_model}"
   ]
  },
  {
   "cell_type": "code",
   "execution_count": 27,
   "id": "35ecae3a",
   "metadata": {},
   "outputs": [
    {
     "name": "stdout",
     "output_type": "stream",
     "text": [
      "Model: \"sequential_8\"\n",
      "_________________________________________________________________\n",
      "Layer (type)                 Output Shape              Param #   \n",
      "=================================================================\n",
      "dense_16 (Dense)             (None, 512)               401920    \n",
      "_________________________________________________________________\n",
      "dropout_8 (Dropout)          (None, 512)               0         \n",
      "_________________________________________________________________\n",
      "dense_17 (Dense)             (None, 10)                5130      \n",
      "=================================================================\n",
      "Total params: 407,050\n",
      "Trainable params: 407,050\n",
      "Non-trainable params: 0\n",
      "_________________________________________________________________\n"
     ]
    }
   ],
   "source": [
    "# 저장된 모델로부터 새로운 케라스 모델을 로드합니다\n",
    "new_model = tf.keras.models.load_model('saved_model/my_model')\n",
    "\n",
    "# 모델 구조를 확인합니다\n",
    "new_model.summary()"
   ]
  },
  {
   "cell_type": "code",
   "execution_count": null,
   "id": "dcefc9d2",
   "metadata": {},
   "outputs": [],
   "source": []
  },
  {
   "cell_type": "markdown",
   "id": "71611a12",
   "metadata": {},
   "source": [
    "#### 복원된 모델 : 원본 모델과 동일한 매개변수로 컴파일되어 있습니다\n",
    "#### 이 모델을 평가하고 예측에 사용"
   ]
  },
  {
   "cell_type": "code",
   "execution_count": 28,
   "id": "c3274301",
   "metadata": {},
   "outputs": [
    {
     "name": "stdout",
     "output_type": "stream",
     "text": [
      "32/32 - 1s - loss: 0.4169 - accuracy: 0.8610\n",
      "복원된 모델의 정확도: 86.10%\n",
      "(1000, 10)\n"
     ]
    }
   ],
   "source": [
    "# 복원된 모델을 평가합니다\n",
    "loss, acc = new_model.evaluate(test_images, test_labels, verbose=2)\n",
    "\n",
    "print('복원된 모델의 정확도: {:5.2f}%'.format(100*acc))\n",
    "\n",
    "print(new_model.predict(test_images).shape)"
   ]
  },
  {
   "cell_type": "code",
   "execution_count": null,
   "id": "2451b8cc",
   "metadata": {},
   "outputs": [],
   "source": []
  },
  {
   "cell_type": "markdown",
   "id": "68f6d56c",
   "metadata": {},
   "source": [
    "#### 04. 02. HDF5 파일로 저장하기"
   ]
  },
  {
   "cell_type": "code",
   "execution_count": 29,
   "id": "4e803adf",
   "metadata": {},
   "outputs": [
    {
     "name": "stdout",
     "output_type": "stream",
     "text": [
      "Epoch 1/5\n",
      "32/32 [==============================] - 2s 17ms/step - loss: 1.0890 - accuracy: 0.6950 0s - loss: 1.1394 - accuracy: 0.\n",
      "Epoch 2/5\n",
      "32/32 [==============================] - 1s 20ms/step - loss: 0.4262 - accuracy: 0.8770\n",
      "Epoch 3/5\n",
      "32/32 [==============================] - 1s 24ms/step - loss: 0.2815 - accuracy: 0.9260\n",
      "Epoch 4/5\n",
      "32/32 [==============================] - 1s 28ms/step - loss: 0.2009 - accuracy: 0.9510 0s - loss: 0.1984 - accuracy\n",
      "Epoch 5/5\n",
      "32/32 [==============================] - 1s 19ms/step - loss: 0.1460 - accuracy: 0.9730\n"
     ]
    }
   ],
   "source": [
    "# 새로운 모델 객체를 만들고 훈련합니다\n",
    "model_hdf5 = create_model()\n",
    "model_hdf5.fit(train_images, train_labels, epochs=5)\n",
    "\n",
    "# 전체 모델을 HDF5 파일로 저장합니다\n",
    "# '.h5' 확장자는 이 모델이 HDF5로 저장되었다는 것을 나타냅니다\n",
    "model.save('my_model.h5')"
   ]
  },
  {
   "cell_type": "code",
   "execution_count": 30,
   "id": "77ac56e2",
   "metadata": {},
   "outputs": [
    {
     "name": "stdout",
     "output_type": "stream",
     "text": [
      "Model: \"sequential_8\"\n",
      "_________________________________________________________________\n",
      "Layer (type)                 Output Shape              Param #   \n",
      "=================================================================\n",
      "dense_16 (Dense)             (None, 512)               401920    \n",
      "_________________________________________________________________\n",
      "dropout_8 (Dropout)          (None, 512)               0         \n",
      "_________________________________________________________________\n",
      "dense_17 (Dense)             (None, 10)                5130      \n",
      "=================================================================\n",
      "Total params: 407,050\n",
      "Trainable params: 407,050\n",
      "Non-trainable params: 0\n",
      "_________________________________________________________________\n"
     ]
    }
   ],
   "source": [
    "# 가중치와 옵티마이저를 포함하여 정확히 동일한 모델을 다시 생성합니다\n",
    "new_model_hdf5 = tf.keras.models.load_model('my_model.h5')\n",
    "\n",
    "# 모델 구조를 출력합니다\n",
    "new_model_hdf5.summary()\n"
   ]
  },
  {
   "cell_type": "code",
   "execution_count": 31,
   "id": "450aa38f",
   "metadata": {},
   "outputs": [
    {
     "name": "stdout",
     "output_type": "stream",
     "text": [
      "32/32 - 1s - loss: 0.4169 - accuracy: 0.8610\n",
      "복원된 모델의 정확도: 86.10%\n"
     ]
    }
   ],
   "source": [
    "loss, acc = new_model_hdf5.evaluate(test_images, test_labels, verbose=2)\n",
    "print('복원된 모델의 정확도: {:5.2f}%'.format(100*acc))"
   ]
  },
  {
   "cell_type": "code",
   "execution_count": null,
   "id": "7b1484da",
   "metadata": {},
   "outputs": [],
   "source": []
  },
  {
   "cell_type": "markdown",
   "id": "c016b404",
   "metadata": {},
   "source": [
    "## 케라스 모델에서 저장되는 값\n",
    "  - 가중치 값\n",
    "  - 모델 구조\n",
    "  - 모델의 훈련 설정(컴파일할 때 전달한 값)\n",
    "  - 옵티마이저와 (필요하면) 옵티마이저 상태\n",
    "    - 중지된 지점부터 다시 시작할 수 있습니다"
   ]
  },
  {
   "cell_type": "markdown",
   "id": "d8a9f0f3",
   "metadata": {},
   "source": [
    "## 사용자 정의 객체\n",
    "  - SavedModel 포맷\n",
    "    - 원본 코드 없이 상속 모델과 사용자 정의 층 같은 상용자 정의 객체를 저장할 수 있습니다\n",
    "    - HDF5와 차이점\n",
    "      - HDF5가 객체로 모델 구조를 저장\n",
    "      - SavedModel 실행 그래프로 저장  \n",
    "        \n",
    "          \n",
    "  - HDF5로 저장\n",
    "    - 객체에 get_config 메서드를 정의하고 선택적으로 from_config 클래스 메서드를 정의\n",
    "      - get_config(self) : 객체를 다시 생성하기 위해 필요한 JSON 직렬화된 매개변수 딕셔너리를 반환\n",
    "      - from_config(cls, config) : get_config에서 반환된 설정을 사용해 새로운 객채를 만듭니다. 기본적으로 이 함수는 이 설정을 초기화 메서드의 매개변수로 사용합니다(return cls(**config))\n",
    "    - 모델을 로드할 때 이 객체를 cusgom_objects 매개변수로 전달\n",
    "      - 문자열 클래스 이름과 파이썬 클래스를 매핑한 딕셔너리를 매개변수로 제공\n",
    "      - tf.keras.models.load_model(path, custon_objects={'CustomLayer':CustomLayer})\n",
    "    - https://www.tensorflow.org/guide/keras/custom_layers_and_models"
   ]
  },
  {
   "cell_type": "code",
   "execution_count": null,
   "id": "941cbcef",
   "metadata": {},
   "outputs": [],
   "source": []
  }
 ],
 "metadata": {
  "kernelspec": {
   "display_name": "Python 3",
   "language": "python",
   "name": "python3"
  },
  "language_info": {
   "codemirror_mode": {
    "name": "ipython",
    "version": 3
   },
   "file_extension": ".py",
   "mimetype": "text/x-python",
   "name": "python",
   "nbconvert_exporter": "python",
   "pygments_lexer": "ipython3",
   "version": "3.8.8"
  }
 },
 "nbformat": 4,
 "nbformat_minor": 5
}

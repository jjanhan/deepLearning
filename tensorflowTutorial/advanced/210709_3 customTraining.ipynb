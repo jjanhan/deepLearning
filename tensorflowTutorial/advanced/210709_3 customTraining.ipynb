{
 "cells": [
  {
   "cell_type": "markdown",
   "id": "dc80d930",
   "metadata": {},
   "source": [
    "<참조 : https://www.tensorflow.org/tutorials/customization/custom_training_walkthrough?hl=ko>"
   ]
  },
  {
   "cell_type": "code",
   "execution_count": null,
   "id": "d2dc2128",
   "metadata": {},
   "outputs": [],
   "source": []
  },
  {
   "cell_type": "markdown",
   "id": "f554ff4c",
   "metadata": {},
   "source": [
    "## Custom training : 둘러보기\n",
    "- 붓꽃 분류 문제로 모델 구축 : 모델 구현의 기본 형태\n",
    "  - 모델 구축\n",
    "  - 모델 훈련\n",
    "  - 모델을 사용한 예측"
   ]
  },
  {
   "cell_type": "markdown",
   "id": "e1ba0e08",
   "metadata": {},
   "source": [
    "## 절차\n",
    "#### 1. 데이터 가져오기 / 분석\n",
    "#### 2. 모델 타입 선정\n",
    "#### 3. 모델 훈련\n",
    "#### 4. 모델 효과 평가\n",
    "#### 5. 훈련된 모델을 사용하여 예측하기  \n",
    "    \n",
    "      \n",
    "  - 고수준 텐서플로 사용\n",
    "    - 텐서플로의 즉시 실행(eager execution) 기본 개발 환경 사용\n",
    "    - 데이터세트 API를 활용하여 데이터 가져오기\n",
    "    - keras API를 활용하여 모델과 층(layer) 구축"
   ]
  },
  {
   "cell_type": "code",
   "execution_count": null,
   "id": "e3572afb",
   "metadata": {},
   "outputs": [],
   "source": []
  },
  {
   "cell_type": "markdown",
   "id": "80cd53a1",
   "metadata": {},
   "source": [
    "## 붓꽃(Iris) 분류\n",
    "- 붓꽃의 꽃받침과 꽃잎의 길이와 폭을 토대로 붓꽃의 품종을 분류\n",
    "  - setosa\n",
    "  - virginica\n",
    "  - versicolor  \n",
    "    \n",
    "      \n",
    "- 측정된 붓꽃 데이터 120개로 분류"
   ]
  },
  {
   "cell_type": "code",
   "execution_count": null,
   "id": "967f06a0",
   "metadata": {},
   "outputs": [],
   "source": []
  },
  {
   "cell_type": "markdown",
   "id": "bb208497",
   "metadata": {},
   "source": [
    "### 01. 임포트 "
   ]
  },
  {
   "cell_type": "code",
   "execution_count": 1,
   "id": "7e2dca61",
   "metadata": {},
   "outputs": [],
   "source": [
    "import os\n",
    "import matplotlib.pyplot as plt\n",
    "\n",
    "import tensorflow as tf"
   ]
  },
  {
   "cell_type": "code",
   "execution_count": 2,
   "id": "408d5320",
   "metadata": {},
   "outputs": [
    {
     "name": "stdout",
     "output_type": "stream",
     "text": [
      "텐서플로 버전: 2.7.0-dev20210708\n",
      "즉시 실행: True\n"
     ]
    }
   ],
   "source": [
    "print('텐서플로 버전: {}'.format(tf.__version__))\n",
    "print('즉시 실행: {}'.format(tf.executing_eagerly()))"
   ]
  },
  {
   "cell_type": "code",
   "execution_count": null,
   "id": "f6a2836d",
   "metadata": {},
   "outputs": [],
   "source": []
  },
  {
   "cell_type": "markdown",
   "id": "94ca04e0",
   "metadata": {},
   "source": [
    "### 02. 데이터 로드"
   ]
  },
  {
   "cell_type": "code",
   "execution_count": 3,
   "id": "30ceb8da",
   "metadata": {},
   "outputs": [
    {
     "name": "stdout",
     "output_type": "stream",
     "text": [
      "Dataset이 복사된 위치: C:\\Users\\jjanh_000\\.keras\\datasets\\iris_training.csv\n"
     ]
    }
   ],
   "source": [
    "# 데이터세트 다운로드\n",
    "train_dataset_url = 'https://storage.googleapis.com/download.tensorflow.org/data/iris_training.csv'\n",
    "\n",
    "train_dataset_fp = tf.keras.utils.get_file(fname=os.path.basename(train_dataset_url),\n",
    "                                          origin=train_dataset_url)\n",
    "\n",
    "print('Dataset이 복사된 위치: {}'.format(train_dataset_fp))"
   ]
  },
  {
   "cell_type": "code",
   "execution_count": 4,
   "id": "f06d823c",
   "metadata": {},
   "outputs": [
    {
     "ename": "SyntaxError",
     "evalue": "invalid syntax (<ipython-input-4-efdac9008b42>, line 1)",
     "output_type": "error",
     "traceback": [
      "\u001b[1;36m  File \u001b[1;32m\"<ipython-input-4-efdac9008b42>\"\u001b[1;36m, line \u001b[1;32m1\u001b[0m\n\u001b[1;33m    $head -n5 {train_dataset_fp}  # 오류발생, 처음 5개 항목 확인이 안됨\u001b[0m\n\u001b[1;37m    ^\u001b[0m\n\u001b[1;31mSyntaxError\u001b[0m\u001b[1;31m:\u001b[0m invalid syntax\n"
     ]
    }
   ],
   "source": [
    "$head -n5 {train_dataset_fp}  # 오류발생, 처음 5개 항목 확인이 안됨"
   ]
  },
  {
   "cell_type": "markdown",
   "id": "ed53d8ab",
   "metadata": {},
   "source": [
    "#### head 5줄의 출력 결과  \n",
    "- 수치 데이터(feature)와 마지막 열(label/target)은 붓꽃의 분류  \n",
    "\n",
    "120,4,setosa,versicolor,virginica  \n",
    "\n",
    "6.4,2.8,5.6,2.2,2  \n",
    "\n",
    "5.0,2.3,3.3,1.0,1  \n",
    "\n",
    "4.9,2.5,4.5,1.7,2  \n",
    "\n",
    "4.9,3.1,1.5,0.1,0"
   ]
  },
  {
   "cell_type": "code",
   "execution_count": 5,
   "id": "c329d2b7",
   "metadata": {},
   "outputs": [
    {
     "name": "stdout",
     "output_type": "stream",
     "text": [
      "특성: ['sepal_length', 'sepal_width', 'petal_length', 'petal_width']\n",
      "레이블: species\n"
     ]
    }
   ],
   "source": [
    "# csv 파일 안에서 컬럼의 순서\n",
    "column_names = ['sepal_length', 'sepal_width', 'petal_length', 'petal_width', 'species']\n",
    "\n",
    "feature_names = column_names[:-1]\n",
    "label_name = column_names[-1]\n",
    "\n",
    "print('특성: {}'.format(feature_names))\n",
    "print('레이블: {}'.format(label_name))"
   ]
  },
  {
   "cell_type": "markdown",
   "id": "c72c3372",
   "metadata": {},
   "source": [
    "#### label\n",
    "  - 0 : Iris setosa\n",
    "  - 1 : Iris versicolor\n",
    "  - 2 : Iris virginica"
   ]
  },
  {
   "cell_type": "code",
   "execution_count": 6,
   "id": "99cf2b86",
   "metadata": {},
   "outputs": [],
   "source": [
    "class_names = ['Iris setosa', 'Iris versicolor', 'Iris virginica']"
   ]
  },
  {
   "cell_type": "code",
   "execution_count": null,
   "id": "c78669b7",
   "metadata": {},
   "outputs": [],
   "source": []
  },
  {
   "cell_type": "markdown",
   "id": "727e2e85",
   "metadata": {},
   "source": [
    "### tf.data.Dataset\n",
    "  - make_csv_dataset 함수 사용\n",
    "    - 훈련 모델을 위한 데이터를 생성\n",
    "    - 초기값은 셔플(shuffle=True, shuffle_buffer_size=10000)\n",
    "    - 무한 반복(num_epochs=None)으로 설정  \n",
    "      \n",
    "        \n",
    "    - (feature, label) 쌍으로 구성된 tf.data.Dataset을 반환\n",
    "      - feature : 딕셔너리 객체인 {'feature_name': value}"
   ]
  },
  {
   "cell_type": "code",
   "execution_count": 7,
   "id": "6acc0d5b",
   "metadata": {},
   "outputs": [],
   "source": [
    "batch_size = 32\n",
    "\n",
    "train_dataset = tf.data.experimental.make_csv_dataset(\n",
    "    train_dataset_fp,\n",
    "    batch_size,\n",
    "    column_names=column_names,\n",
    "    label_name=label_name,\n",
    "    num_epochs=1\n",
    ")"
   ]
  },
  {
   "cell_type": "code",
   "execution_count": 8,
   "id": "aec9e425",
   "metadata": {},
   "outputs": [
    {
     "name": "stdout",
     "output_type": "stream",
     "text": [
      "OrderedDict([('sepal_length', <tf.Tensor: shape=(32,), dtype=float32, numpy=\n",
      "array([7.2, 6.2, 4.6, 4.8, 6.3, 5.7, 4.8, 6.4, 7. , 5.8, 6.3, 7.2, 7.3,\n",
      "       6.8, 6.9, 4.8, 5. , 5.7, 6.4, 6.4, 5.8, 5.5, 5. , 7.7, 6.8, 5.1,\n",
      "       5.7, 6.7, 4.7, 6.2, 6.7, 5.2], dtype=float32)>), ('sepal_width', <tf.Tensor: shape=(32,), dtype=float32, numpy=\n",
      "array([3.2, 2.2, 3.4, 3. , 3.3, 4.4, 3. , 2.7, 3.2, 2.8, 2.3, 3. , 2.9,\n",
      "       3. , 3.1, 3.4, 2. , 3. , 3.2, 3.2, 2.7, 2.6, 3.4, 3.8, 3.2, 3.5,\n",
      "       2.8, 3.1, 3.2, 3.4, 3. , 3.4], dtype=float32)>), ('petal_length', <tf.Tensor: shape=(32,), dtype=float32, numpy=\n",
      "array([6. , 4.5, 1.4, 1.4, 6. , 1.5, 1.4, 5.3, 4.7, 5.1, 4.4, 5.8, 6.3,\n",
      "       5.5, 5.1, 1.6, 3.5, 4.2, 4.5, 5.3, 5.1, 4.4, 1.5, 6.7, 5.9, 1.4,\n",
      "       4.5, 5.6, 1.3, 5.4, 5.2, 1.4], dtype=float32)>), ('petal_width', <tf.Tensor: shape=(32,), dtype=float32, numpy=\n",
      "array([1.8, 1.5, 0.3, 0.1, 2.5, 0.4, 0.3, 1.9, 1.4, 2.4, 1.3, 1.6, 1.8,\n",
      "       2.1, 2.3, 0.2, 1. , 1.2, 1.5, 2.3, 1.9, 1.2, 0.2, 2.2, 2.3, 0.3,\n",
      "       1.3, 2.4, 0.2, 2.3, 2.3, 0.2], dtype=float32)>)])\n"
     ]
    }
   ],
   "source": [
    "features, labels = next(iter(train_dataset))\n",
    "\n",
    "print(features)"
   ]
  },
  {
   "cell_type": "code",
   "execution_count": 9,
   "id": "247b0311",
   "metadata": {},
   "outputs": [
    {
     "data": {
      "image/png": "[encoded data removed]",
      "text/plain": [
       "<Figure size 432x288 with 1 Axes>"
      ]
     },
     "metadata": {
      "needs_background": "light"
     },
     "output_type": "display_data"
    }
   ],
   "source": [
    "plt.scatter(features['petal_length'],\n",
    "           features['sepal_length'],\n",
    "           c=labels,\n",
    "           cmap='viridis')\n",
    "\n",
    "plt.xlabel('Petal length')\n",
    "plt.ylabel('Sepal length')\n",
    "plt.show()"
   ]
  },
  {
   "cell_type": "code",
   "execution_count": null,
   "id": "7b06308b",
   "metadata": {},
   "outputs": [],
   "source": []
  },
  {
   "cell_type": "markdown",
   "id": "4d717378",
   "metadata": {},
   "source": [
    "#### pack_features_vector 함수\n",
    "  - 모델 구축 단계를 단순화\n",
    "    - 특성 딕셔너리를 (batch_size, num_features) 형태를 가지는 단일 배열로 재구성\n",
    "  - tf.stack 메서드를 사용"
   ]
  },
  {
   "cell_type": "code",
   "execution_count": 10,
   "id": "32759c4c",
   "metadata": {},
   "outputs": [],
   "source": [
    "def pack_features_vector(features, labels):\n",
    "    features = tf.stack(list(features.values()), axis=1)\n",
    "    return features, labels"
   ]
  },
  {
   "cell_type": "code",
   "execution_count": 11,
   "id": "f1d4c7c0",
   "metadata": {},
   "outputs": [],
   "source": [
    "train_dataset = train_dataset.map(pack_features_vector)"
   ]
  },
  {
   "cell_type": "code",
   "execution_count": 12,
   "id": "ac0c0f6b",
   "metadata": {},
   "outputs": [
    {
     "name": "stdout",
     "output_type": "stream",
     "text": [
      "tf.Tensor(\n",
      "[[4.9 3.1 1.5 0.1]\n",
      " [6.8 3.2 5.9 2.3]\n",
      " [7.3 2.9 6.3 1.8]\n",
      " [5.  2.  3.5 1. ]\n",
      " [4.4 3.2 1.3 0.2]], shape=(5, 4), dtype=float32)\n"
     ]
    }
   ],
   "source": [
    "features, labels = next(iter(train_dataset))\n",
    "\n",
    "print(features[:5])"
   ]
  },
  {
   "cell_type": "code",
   "execution_count": null,
   "id": "69970588",
   "metadata": {},
   "outputs": [],
   "source": []
  },
  {
   "cell_type": "markdown",
   "id": "5e466fa8",
   "metadata": {},
   "source": [
    "### 03. 모델 타입 선정\n",
    "  - 모델 : 특성(features)과 레이블(label)과의 관계\n",
    "  - 신경망(neural network) 모델\n",
    "    - 신경망은 하나 또는 그 이상의 은닉층(hidden layer)으로 구성된 그래프\n",
    "    - 각각의 은닉층은 하나 이상의 뉴런(neuron)으로 구성  \n",
    "      \n",
    "        \n",
    "  - dense / fully-connected newral network 사용  \n",
    "    \n",
    "      \n",
    "  - 모델이 훈련된 다음 레이블이 되어 있지 않은 데이터를 제공 : 레이블을 예측\n",
    "    - 추론 : inference\n",
    "    - Probability(확률)로 표시 "
   ]
  },
  {
   "cell_type": "markdown",
   "id": "bc23b72d",
   "metadata": {},
   "source": [
    "#### keras를 사용한 모델 생성\n",
    "  - 활성화 함수(activation function) : ReLU 사용"
   ]
  },
  {
   "cell_type": "code",
   "execution_count": 13,
   "id": "c4aa4ebd",
   "metadata": {},
   "outputs": [],
   "source": [
    "model = tf.keras.Sequential([\n",
    "    tf.keras.layers.Dense(10, activation=tf.nn.relu, input_shape=(4,)),\n",
    "    tf.keras.layers.Dense(10, activation=tf.nn.relu),\n",
    "    tf.keras.layers.Dense(3)\n",
    "])"
   ]
  },
  {
   "cell_type": "code",
   "execution_count": 14,
   "id": "05c8ae33",
   "metadata": {},
   "outputs": [
    {
     "data": {
      "text/plain": [
       "<tf.Tensor: shape=(5, 3), dtype=float32, numpy=\n",
       "array([[-0.70950603, -0.2144442 , -0.48088205],\n",
       "       [ 2.1663373 , -1.2927195 , -3.3201587 ],\n",
       "       [ 2.3641922 , -1.4015484 , -3.551595  ],\n",
       "       [ 1.316179  , -0.77418905, -2.1521018 ],\n",
       "       [-0.8792841 , -0.14047888, -0.25194544]], dtype=float32)>"
      ]
     },
     "execution_count": 14,
     "metadata": {},
     "output_type": "execute_result"
    }
   ],
   "source": [
    "predictions = model(features)\n",
    "predictions[:5]"
   ]
  },
  {
   "cell_type": "markdown",
   "id": "6587ce10",
   "metadata": {},
   "source": [
    "#### 각 샘플은 각 클래스에 대한 로짓(logit)을 반환\n",
    "  - 이 로짓을 각 클래스에 대한 확률로 변환\n",
    "    - 소프트맥스(softmax) 함수 사용"
   ]
  },
  {
   "cell_type": "code",
   "execution_count": 15,
   "id": "6afd0bb0",
   "metadata": {},
   "outputs": [
    {
     "data": {
      "text/plain": [
       "<tf.Tensor: shape=(5, 3), dtype=float32, numpy=\n",
       "array([[0.25657678, 0.42093977, 0.32248348],\n",
       "       [0.9656222 , 0.03037792, 0.00399993],\n",
       "       [0.9748043 , 0.02256717, 0.0026286 ],\n",
       "       [0.86594164, 0.10706643, 0.0269919 ],\n",
       "       [0.20136717, 0.42154863, 0.37708423]], dtype=float32)>"
      ]
     },
     "execution_count": 15,
     "metadata": {},
     "output_type": "execute_result"
    }
   ],
   "source": [
    "tf.nn.softmax(predictions[:5])"
   ]
  },
  {
   "cell_type": "code",
   "execution_count": 16,
   "id": "41132666",
   "metadata": {},
   "outputs": [
    {
     "name": "stdout",
     "output_type": "stream",
     "text": [
      "  예측: {} [1 0 0 0 1 0 0 0 1 0 1 0 1 0 0 1 0 0 0 1 0 0 0 0 0 0 0 0 1 0 0 1]\n",
      "레이블: [0 2 2 1 0 2 2 2 0 2 0 1 0 2 2 0 2 1 2 0 1 1 1 1 1 1 1 2 0 1 2 0]\n"
     ]
    }
   ],
   "source": [
    "print('  예측: {}',format(tf.argmax(predictions, axis=1)))\n",
    "print('레이블: {}'.format(labels))"
   ]
  },
  {
   "cell_type": "code",
   "execution_count": null,
   "id": "ada93ad9",
   "metadata": {},
   "outputs": [],
   "source": []
  },
  {
   "cell_type": "markdown",
   "id": "d4a98fc1",
   "metadata": {},
   "source": [
    "### 04. 모델 훈련 : Model Training\n",
    "  - 모델이 점진적으로 최적화되거나 데이터셋을 학습하는 머신러닝 과정\n",
    "  - 훈련의 목적\n",
    "    - 미지의 데이터를 예측하기 위해 훈련 데이터셋의 구조에 대해서 충분히 학습\n",
    "    - 과대적합(Overfitting) : 훈련 데이터에 대해 과하게 학습된 상태\n",
    "      - 훈련데이터에 대한 예측의 정확도는 높으나 미지의 데이터에 대한 예측의 정확도가 낮은 경우\n",
    "      - 문제를 이해하고 해결하는 것이 아니라 답을 기억하고 있는 것과 같은 형태  \n",
    "        \n",
    "          \n",
    "  - 학습 형태\n",
    "    - 지도학습(supervised machine learning) : 모델이 레이블을 포함한 훈련데이터로 학습\n",
    "    - 비지도학습(unsupervised machine learning) : 훈련데이터가 레이블을 포함하고 있지 않은 경우\n",
    "      - 대신 특성 산의 패턴을 찾습니다"
   ]
  },
  {
   "cell_type": "markdown",
   "id": "253d3b20",
   "metadata": {},
   "source": [
    "#### 손실함수와 그래디언트 함수\n",
    "  - 훈련과 평가에서 모델의 손실(loss)을 계산\n",
    "    - 손실은 모델의 예측과 실제 레이블이 얼마나 일치하는지\n",
    "    - 모델이 잘 작동하는지에 대한 척도\n",
    "    - 손실을 최소화하고 최적화해야 합니다  \n",
    "      \n",
    "        \n",
    "  - tf.keras.losses.categorical_crossentropy 함수 사용\n",
    "    - 모델의 클래스(레이블)과 예측된 값(로짓)을 입력받아 샘플의 평균 손실을 반환\n",
    "   "
   ]
  },
  {
   "cell_type": "code",
   "execution_count": 17,
   "id": "275e67da",
   "metadata": {},
   "outputs": [],
   "source": [
    "loss_object = tf.keras.losses.SparseCategoricalCrossentropy(from_logits=True)"
   ]
  },
  {
   "cell_type": "code",
   "execution_count": 18,
   "id": "b74827b7",
   "metadata": {},
   "outputs": [
    {
     "name": "stdout",
     "output_type": "stream",
     "text": [
      "손실 테스트: 3.2710609436035156\n"
     ]
    }
   ],
   "source": [
    "def loss(model, x, y):\n",
    "    y_ = model(x)\n",
    "    \n",
    "    return loss_object(y_true=y, y_pred=y_)\n",
    "\n",
    "l = loss(model, features, labels)\n",
    "print('손실 테스트: {}'.format(l))"
   ]
  },
  {
   "cell_type": "code",
   "execution_count": 19,
   "id": "a1f1e777",
   "metadata": {},
   "outputs": [],
   "source": [
    "def grad(model, inputs, targets):\n",
    "    with tf.GradientTape() as tape:\n",
    "        loss_value = loss(model, inputs, targets)\n",
    "    return loss_value, tape.gradient(loss_value, model.trainable_variables)"
   ]
  },
  {
   "cell_type": "code",
   "execution_count": null,
   "id": "a9662df7",
   "metadata": {},
   "outputs": [],
   "source": []
  },
  {
   "cell_type": "markdown",
   "id": "01398dcf",
   "metadata": {},
   "source": [
    "### 옵티마이저 : Optimizer\n",
    "  - 손실 함수를 최소화하기 위해 계산된 그래디언트를 모델의 변수에 적용\n",
    "  - 손실 함수의 최저점 탐색\n",
    "    - 그래디언트(미분계수:기울기) : 가장 가파른 상승 방향을 가리키며 반대방향으로 이동\n",
    "    - 각 배치마다 손실과 기울기를 반복적으로 계산하여 훈련과정 동안 모델을 조정  \n",
    "      \n",
    "        \n",
    "        \n",
    "    - 손실을 최소화하기 위해 가중치(weight)와 편향(bias)의 최적의 조합을 탐색\n",
    "      \n",
    "        \n",
    "          \n",
    "  - 최적화 알고리즘\n",
    "    - 확률적 경사하강법(SGD : stochastic gradient descent)\n",
    "    - 학습률(learning rate) : 경사 하강 과정의 크기를 나타내는 매개변수 / 조절가능한 하이퍼바라미터(hyperparameter)"
   ]
  },
  {
   "cell_type": "code",
   "execution_count": 20,
   "id": "37d6e4d2",
   "metadata": {},
   "outputs": [],
   "source": [
    "optimizer = tf.keras.optimizers.Adam(learning_rate=0.01)"
   ]
  },
  {
   "cell_type": "code",
   "execution_count": 21,
   "id": "68526d41",
   "metadata": {},
   "outputs": [
    {
     "name": "stdout",
     "output_type": "stream",
     "text": [
      "단계: 0, 초기 손실: 3.2710609436035156\n",
      "단계: 1,      손실: 2.6644670963287354\n"
     ]
    }
   ],
   "source": [
    "loss_value, grads = grad(model, features, labels)\n",
    "\n",
    "print('단계: {}, 초기 손실: {}'.format(optimizer.iterations.numpy(),\n",
    "                                loss_value.numpy()))\n",
    "\n",
    "optimizer.apply_gradients(zip(grads, model.trainable_variables))\n",
    "\n",
    "print('단계: {},      손실: {}'.format(optimizer.iterations.numpy(),\n",
    "                                  loss(model, features, labels).numpy()))"
   ]
  },
  {
   "cell_type": "code",
   "execution_count": null,
   "id": "5def6efe",
   "metadata": {},
   "outputs": [],
   "source": []
  },
  {
   "cell_type": "markdown",
   "id": "5f26dcc7",
   "metadata": {},
   "source": [
    "### 모델 훈련"
   ]
  },
  {
   "cell_type": "code",
   "execution_count": 22,
   "id": "bfb60587",
   "metadata": {},
   "outputs": [
    {
     "name": "stdout",
     "output_type": "stream",
     "text": [
      "에포크 000: 손실: 2.040, 정확도: 22.500%\n",
      "에포크 050: 손실: 0.098, 정확도: 98.333%\n",
      "에포크 100: 손실: 0.060, 정확도: 99.167%\n",
      "에포크 150: 손실: 0.055, 정확도: 98.333%\n",
      "에포크 200: 손실: 0.059, 정확도: 98.333%\n"
     ]
    }
   ],
   "source": [
    "train_loss_results = []\n",
    "train_accuracy_results = []\n",
    "\n",
    "num_epochs = 201\n",
    "\n",
    "for epoch in range(num_epochs):\n",
    "    epoch_loss_avg = tf.keras.metrics.Mean()\n",
    "    epoch_accuracy = tf.keras.metrics.SparseCategoricalAccuracy()\n",
    "    \n",
    "    for x, y in train_dataset:\n",
    "        # 모델을 최적화 합니다\n",
    "        loss_value, grads = grad(model, x, y)\n",
    "        optimizer.apply_gradients(zip(grads, model.trainable_variables))\n",
    "        \n",
    "        epoch_loss_avg(loss_value)\n",
    "        \n",
    "        epoch_accuracy(y, model(x))\n",
    "        \n",
    "    train_loss_results.append(epoch_loss_avg.result())\n",
    "    train_accuracy_results.append(epoch_accuracy.result())\n",
    "    \n",
    "    if epoch % 50 == 0:\n",
    "        print('에포크 {:03d}: 손실: {:.3f}, 정확도: {:.3%}'.format(epoch,\n",
    "                                             epoch_loss_avg.result(),\n",
    "                                             epoch_accuracy.result()))"
   ]
  },
  {
   "cell_type": "code",
   "execution_count": null,
   "id": "a9f47333",
   "metadata": {},
   "outputs": [],
   "source": []
  },
  {
   "cell_type": "markdown",
   "id": "ddfe4ef7",
   "metadata": {},
   "source": [
    "### 시간에 따른 손실함수 시각화\n",
    "  - 텐서보드 : tensorboard"
   ]
  },
  {
   "cell_type": "code",
   "execution_count": 24,
   "id": "283be6d2",
   "metadata": {},
   "outputs": [
    {
     "name": "stderr",
     "output_type": "stream",
     "text": [
      "C:\\Users\\jjanh_000\\anaconda3\\lib\\site-packages\\matplotlib\\backends\\backend_agg.py:238: RuntimeWarning: Glyph 49552 missing from current font.\n",
      "  font.set_text(s, 0.0, flags=flags)\n",
      "C:\\Users\\jjanh_000\\anaconda3\\lib\\site-packages\\matplotlib\\backends\\backend_agg.py:238: RuntimeWarning: Glyph 49892 missing from current font.\n",
      "  font.set_text(s, 0.0, flags=flags)\n",
      "C:\\Users\\jjanh_000\\anaconda3\\lib\\site-packages\\matplotlib\\backends\\backend_agg.py:238: RuntimeWarning: Glyph 50640 missing from current font.\n",
      "  font.set_text(s, 0.0, flags=flags)\n",
      "C:\\Users\\jjanh_000\\anaconda3\\lib\\site-packages\\matplotlib\\backends\\backend_agg.py:238: RuntimeWarning: Glyph 54252 missing from current font.\n",
      "  font.set_text(s, 0.0, flags=flags)\n",
      "C:\\Users\\jjanh_000\\anaconda3\\lib\\site-packages\\matplotlib\\backends\\backend_agg.py:238: RuntimeWarning: Glyph 53356 missing from current font.\n",
      "  font.set_text(s, 0.0, flags=flags)\n",
      "C:\\Users\\jjanh_000\\anaconda3\\lib\\site-packages\\matplotlib\\backends\\backend_agg.py:238: RuntimeWarning: Glyph 51221 missing from current font.\n",
      "  font.set_text(s, 0.0, flags=flags)\n",
      "C:\\Users\\jjanh_000\\anaconda3\\lib\\site-packages\\matplotlib\\backends\\backend_agg.py:238: RuntimeWarning: Glyph 54869 missing from current font.\n",
      "  font.set_text(s, 0.0, flags=flags)\n",
      "C:\\Users\\jjanh_000\\anaconda3\\lib\\site-packages\\matplotlib\\backends\\backend_agg.py:238: RuntimeWarning: Glyph 46020 missing from current font.\n",
      "  font.set_text(s, 0.0, flags=flags)\n",
      "C:\\Users\\jjanh_000\\anaconda3\\lib\\site-packages\\matplotlib\\backends\\backend_agg.py:238: RuntimeWarning: Glyph 54984 missing from current font.\n",
      "  font.set_text(s, 0.0, flags=flags)\n",
      "C:\\Users\\jjanh_000\\anaconda3\\lib\\site-packages\\matplotlib\\backends\\backend_agg.py:238: RuntimeWarning: Glyph 47144 missing from current font.\n",
      "  font.set_text(s, 0.0, flags=flags)\n",
      "C:\\Users\\jjanh_000\\anaconda3\\lib\\site-packages\\matplotlib\\backends\\backend_agg.py:238: RuntimeWarning: Glyph 51648 missing from current font.\n",
      "  font.set_text(s, 0.0, flags=flags)\n",
      "C:\\Users\\jjanh_000\\anaconda3\\lib\\site-packages\\matplotlib\\backends\\backend_agg.py:238: RuntimeWarning: Glyph 54364 missing from current font.\n",
      "  font.set_text(s, 0.0, flags=flags)\n",
      "C:\\Users\\jjanh_000\\anaconda3\\lib\\site-packages\\matplotlib\\backends\\backend_agg.py:201: RuntimeWarning: Glyph 49552 missing from current font.\n",
      "  font.set_text(s, 0, flags=flags)\n",
      "C:\\Users\\jjanh_000\\anaconda3\\lib\\site-packages\\matplotlib\\backends\\backend_agg.py:201: RuntimeWarning: Glyph 49892 missing from current font.\n",
      "  font.set_text(s, 0, flags=flags)\n",
      "C:\\Users\\jjanh_000\\anaconda3\\lib\\site-packages\\matplotlib\\backends\\backend_agg.py:201: RuntimeWarning: Glyph 50640 missing from current font.\n",
      "  font.set_text(s, 0, flags=flags)\n",
      "C:\\Users\\jjanh_000\\anaconda3\\lib\\site-packages\\matplotlib\\backends\\backend_agg.py:201: RuntimeWarning: Glyph 54252 missing from current font.\n",
      "  font.set_text(s, 0, flags=flags)\n",
      "C:\\Users\\jjanh_000\\anaconda3\\lib\\site-packages\\matplotlib\\backends\\backend_agg.py:201: RuntimeWarning: Glyph 53356 missing from current font.\n",
      "  font.set_text(s, 0, flags=flags)\n",
      "C:\\Users\\jjanh_000\\anaconda3\\lib\\site-packages\\matplotlib\\backends\\backend_agg.py:201: RuntimeWarning: Glyph 51221 missing from current font.\n",
      "  font.set_text(s, 0, flags=flags)\n",
      "C:\\Users\\jjanh_000\\anaconda3\\lib\\site-packages\\matplotlib\\backends\\backend_agg.py:201: RuntimeWarning: Glyph 54869 missing from current font.\n",
      "  font.set_text(s, 0, flags=flags)\n",
      "C:\\Users\\jjanh_000\\anaconda3\\lib\\site-packages\\matplotlib\\backends\\backend_agg.py:201: RuntimeWarning: Glyph 46020 missing from current font.\n",
      "  font.set_text(s, 0, flags=flags)\n",
      "C:\\Users\\jjanh_000\\anaconda3\\lib\\site-packages\\matplotlib\\backends\\backend_agg.py:201: RuntimeWarning: Glyph 54984 missing from current font.\n",
      "  font.set_text(s, 0, flags=flags)\n",
      "C:\\Users\\jjanh_000\\anaconda3\\lib\\site-packages\\matplotlib\\backends\\backend_agg.py:201: RuntimeWarning: Glyph 47144 missing from current font.\n",
      "  font.set_text(s, 0, flags=flags)\n",
      "C:\\Users\\jjanh_000\\anaconda3\\lib\\site-packages\\matplotlib\\backends\\backend_agg.py:201: RuntimeWarning: Glyph 51648 missing from current font.\n",
      "  font.set_text(s, 0, flags=flags)\n",
      "C:\\Users\\jjanh_000\\anaconda3\\lib\\site-packages\\matplotlib\\backends\\backend_agg.py:201: RuntimeWarning: Glyph 54364 missing from current font.\n",
      "  font.set_text(s, 0, flags=flags)\n"
     ]
    },
    {
     "data": {
      "image/png": "[encoded data removed]",
      "text/plain": [
       "<Figure size 864x576 with 2 Axes>"
      ]
     },
     "metadata": {
      "needs_background": "light"
     },
     "output_type": "display_data"
    }
   ],
   "source": [
    "fig, axes = plt.subplots(2, sharex=True, figsize=(12, 8))\n",
    "fig.suptitle('훈련 지표')\n",
    "\n",
    "axes[0].set_ylabel('손실', fontsize=14)\n",
    "axes[0].plot(train_loss_results)\n",
    "\n",
    "axes[1].set_ylabel('정확도', fontsize=14)\n",
    "axes[1].set_xlabel('에포크', fontsize=14)\n",
    "axes[1].plot(train_accuracy_results)\n",
    "plt.show()"
   ]
  },
  {
   "cell_type": "code",
   "execution_count": null,
   "id": "2fbe0227",
   "metadata": {},
   "outputs": [],
   "source": []
  },
  {
   "cell_type": "markdown",
   "id": "7a76fd5c",
   "metadata": {},
   "source": [
    "### 05. 모델 유효성 평가"
   ]
  },
  {
   "cell_type": "code",
   "execution_count": 25,
   "id": "966e223d",
   "metadata": {},
   "outputs": [
    {
     "name": "stdout",
     "output_type": "stream",
     "text": [
      "Downloading data from https://storage.googleapis.com/download.tensorflow.org/data/iris_test.csv\n",
      "16384/573 [=========================================================================================================================================================================================================================================================================================================================================================================================================================================================================================================================================================================================================================================================================================================================================================================================================================================================================================] - 0s 0s/step\n"
     ]
    }
   ],
   "source": [
    "test_url = 'https://storage.googleapis.com/download.tensorflow.org/data/iris_test.csv'\n",
    "\n",
    "test_fp = tf.keras.utils.get_file(fname=os.path.basename(test_url),\n",
    "                                 origin=test_url)"
   ]
  },
  {
   "cell_type": "code",
   "execution_count": 26,
   "id": "3f15d0cf",
   "metadata": {},
   "outputs": [],
   "source": [
    "test_dataset = tf.data.experimental.make_csv_dataset(\n",
    "    test_fp,\n",
    "    batch_size,\n",
    "    column_names=column_names,\n",
    "    label_name='species',\n",
    "    num_epochs=1,\n",
    "    shuffle=False\n",
    ")\n",
    "\n",
    "test_dataset = test_dataset.map(pack_features_vector)"
   ]
  },
  {
   "cell_type": "code",
   "execution_count": 27,
   "id": "9d429ce5",
   "metadata": {},
   "outputs": [
    {
     "name": "stdout",
     "output_type": "stream",
     "text": [
      "테스트 세트 정확도: 96.667%\n"
     ]
    }
   ],
   "source": [
    "test_accuracy = tf.keras.metrics.Accuracy()\n",
    "\n",
    "for (x, y) in test_dataset:\n",
    "    logits = model(x)\n",
    "    prediction = tf.argmax(logits, axis=1, output_type=tf.int32)\n",
    "    test_accuracy(prediction, y)\n",
    "    \n",
    "print('테스트 세트 정확도: {:.3%}'.format(test_accuracy.result()))"
   ]
  },
  {
   "cell_type": "code",
   "execution_count": 28,
   "id": "b678628e",
   "metadata": {},
   "outputs": [
    {
     "data": {
      "text/plain": [
       "<tf.Tensor: shape=(30, 2), dtype=int32, numpy=\n",
       "array([[1, 1],\n",
       "       [2, 2],\n",
       "       [0, 0],\n",
       "       [1, 1],\n",
       "       [1, 1],\n",
       "       [1, 1],\n",
       "       [0, 0],\n",
       "       [2, 1],\n",
       "       [1, 1],\n",
       "       [2, 2],\n",
       "       [2, 2],\n",
       "       [0, 0],\n",
       "       [2, 2],\n",
       "       [1, 1],\n",
       "       [1, 1],\n",
       "       [0, 0],\n",
       "       [1, 1],\n",
       "       [0, 0],\n",
       "       [0, 0],\n",
       "       [2, 2],\n",
       "       [0, 0],\n",
       "       [1, 1],\n",
       "       [2, 2],\n",
       "       [1, 1],\n",
       "       [1, 1],\n",
       "       [1, 1],\n",
       "       [0, 0],\n",
       "       [1, 1],\n",
       "       [2, 2],\n",
       "       [1, 1]])>"
      ]
     },
     "execution_count": 28,
     "metadata": {},
     "output_type": "execute_result"
    }
   ],
   "source": [
    "tf.stack([y, prediction], axis=1)"
   ]
  },
  {
   "cell_type": "code",
   "execution_count": null,
   "id": "9f163b24",
   "metadata": {},
   "outputs": [],
   "source": []
  },
  {
   "cell_type": "markdown",
   "id": "170a0fd8",
   "metadata": {},
   "source": [
    "### 06. 훈련된 모델로 예측하기"
   ]
  },
  {
   "cell_type": "code",
   "execution_count": 29,
   "id": "231fa54c",
   "metadata": {},
   "outputs": [
    {
     "name": "stdout",
     "output_type": "stream",
     "text": [
      "샘플 0 예측: Iris setosa (99.7%)\n",
      "샘플 1 예측: Iris versicolor (99.9%)\n",
      "샘플 2 예측: Iris virginica (98.4%)\n"
     ]
    }
   ],
   "source": [
    "predict_dataset = tf.convert_to_tensor([\n",
    "    [5.1, 3.3, 1.7, 0.5,],\n",
    "    [5.9, 3.0, 4.2, 1.5,],\n",
    "    [6.9, 3.1, 5.4, 2.1,]\n",
    "])\n",
    "\n",
    "predictions = model(predict_dataset)\n",
    "\n",
    "for i, logits in enumerate(predictions):\n",
    "    class_idx = tf.argmax(logits).numpy()\n",
    "    p = tf.nn.softmax(logits)[class_idx]\n",
    "    name = class_names[class_idx]\n",
    "    print('샘플 {} 예측: {} ({:4.1f}%)'.format(i, name, 100*p))"
   ]
  },
  {
   "cell_type": "code",
   "execution_count": null,
   "id": "1794841c",
   "metadata": {},
   "outputs": [],
   "source": []
  }
 ],
 "metadata": {
  "kernelspec": {
   "display_name": "Python 3",
   "language": "python",
   "name": "python3"
  },
  "language_info": {
   "codemirror_mode": {
    "name": "ipython",
    "version": 3
   },
   "file_extension": ".py",
   "mimetype": "text/x-python",
   "name": "python",
   "nbconvert_exporter": "python",
   "pygments_lexer": "ipython3",
   "version": "3.8.8"
  }
 },
 "nbformat": 4,
 "nbformat_minor": 5
}

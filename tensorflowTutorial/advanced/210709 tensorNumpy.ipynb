{
 "cells": [
  {
   "cell_type": "markdown",
   "id": "8956f0e7",
   "metadata": {},
   "source": [
    "<참조 : https://www.tensorflow.org/tutorials/customization/basics?hl=ko>"
   ]
  },
  {
   "cell_type": "code",
   "execution_count": null,
   "id": "6e24ed64",
   "metadata": {},
   "outputs": [],
   "source": []
  },
  {
   "cell_type": "markdown",
   "id": "6b918e2d",
   "metadata": {},
   "source": [
    "## 텐서와 연산\n",
    "  - 필요한 패키지 임포트\n",
    "  - 텐서(Tensor) 생성 및 사용\n",
    "  - GPU 가속기 사용\n",
    "  - tf.data.Dataset 시연"
   ]
  },
  {
   "cell_type": "code",
   "execution_count": 2,
   "id": "43e65dc8",
   "metadata": {},
   "outputs": [],
   "source": [
    "# !pip install -q tensorflow-gpu==2.0.0-rc1\n",
    "# GPU 없음"
   ]
  },
  {
   "cell_type": "code",
   "execution_count": 3,
   "id": "47096409",
   "metadata": {},
   "outputs": [],
   "source": [
    "import tensorflow as tf"
   ]
  },
  {
   "cell_type": "code",
   "execution_count": null,
   "id": "2ecad079",
   "metadata": {},
   "outputs": [],
   "source": []
  },
  {
   "cell_type": "markdown",
   "id": "1e562150",
   "metadata": {},
   "source": [
    "### 텐서 : Tensor\n",
    "  - 다차원 배열 : Numpy ndarray 객체와 비슷\n",
    "  - tf.Tensor : 데이터 타입과 크기를 가집니다\n",
    "    - GPU 가속기 메모리에 상주할 수 있습니다\n",
    "  - tensor 연산\n",
    "    - tf.add\n",
    "    - tf.matmul\n",
    "    - tf.linalg.inv 등"
   ]
  },
  {
   "cell_type": "code",
   "execution_count": 4,
   "id": "0af5a41d",
   "metadata": {},
   "outputs": [
    {
     "name": "stdout",
     "output_type": "stream",
     "text": [
      "tf.Tensor(3, shape=(), dtype=int32)\n",
      "tf.Tensor([4 6], shape=(2,), dtype=int32)\n",
      "tf.Tensor(25, shape=(), dtype=int32)\n",
      "tf.Tensor(6, shape=(), dtype=int32)\n",
      "tf.Tensor(13, shape=(), dtype=int32)\n"
     ]
    }
   ],
   "source": [
    "print(tf.add(1, 2))\n",
    "print(tf.add([1, 2], [3, 4]))\n",
    "print(tf.square(5))\n",
    "print(tf.reduce_sum([1, 2, 3]))\n",
    "\n",
    "# 연산자 오버로딩(overloading)을 지원합니다\n",
    "print(tf.square(2) + tf.square(3))"
   ]
  },
  {
   "cell_type": "code",
   "execution_count": 6,
   "id": "741b816d",
   "metadata": {},
   "outputs": [
    {
     "name": "stdout",
     "output_type": "stream",
     "text": [
      "tf.Tensor([[2 3]], shape=(1, 2), dtype=int32)\n",
      "(1, 2)\n",
      "<dtype: 'int32'>\n"
     ]
    }
   ],
   "source": [
    "x = tf.matmul([[1]], [[2, 3]])\n",
    "print(x)\n",
    "print(x.shape)\n",
    "print(x.dtype)"
   ]
  },
  {
   "cell_type": "code",
   "execution_count": null,
   "id": "a73c9327",
   "metadata": {},
   "outputs": [],
   "source": []
  },
  {
   "cell_type": "markdown",
   "id": "09d9e898",
   "metadata": {},
   "source": [
    "### Numpy ndarray와 tf.Tensor의 차이\n",
    "  - 텐서는 가속기 메모리(GPU, TPU 등)에서 사용할 수 있습니다\n",
    "  - 텐서는 불변성(immutable)을 가집니다  \n",
    "    \n",
    "### Numpy와 호환성\n",
    "  - 텐서플로우 연산은 자동으로 넘파이 배열을 텐서로 변환합니다\n",
    "  - 넘파이 연산은 자동으로 텐서를 넘파이 배열로 변환합니다  \n",
    "    \n",
    "  - 텐서는 .numpy() 메서드를 호출하여 넘파이 배열로 변환할 수 있습니다"
   ]
  },
  {
   "cell_type": "code",
   "execution_count": 7,
   "id": "367c286a",
   "metadata": {},
   "outputs": [
    {
     "name": "stdout",
     "output_type": "stream",
     "text": [
      "텐서플로 연산은 자동적으로 넘파이 배열을 텐서로 변환합니다.\n",
      "tf.Tensor(\n",
      "[[42. 42. 42.]\n",
      " [42. 42. 42.]\n",
      " [42. 42. 42.]], shape=(3, 3), dtype=float64)\n",
      "그리고 넘파이 연산은 자동적으로 텐서를 넘파이 배열로 변환합니다.\n",
      "[[43. 43. 43.]\n",
      " [43. 43. 43.]\n",
      " [43. 43. 43.]]\n",
      ".numpy() 메서드는 텐서를 넘파이 배열로 변환합니다.\n",
      "[[42. 42. 42.]\n",
      " [42. 42. 42.]\n",
      " [42. 42. 42.]]\n"
     ]
    }
   ],
   "source": [
    "import numpy as np\n",
    "\n",
    "ndarray = np.ones([3, 3])\n",
    "\n",
    "print('텐서플로 연산은 자동적으로 넘파이 배열을 텐서로 변환합니다.')\n",
    "tensor = tf.multiply(ndarray, 42)\n",
    "print(tensor)\n",
    "\n",
    "print('그리고 넘파이 연산은 자동적으로 텐서를 넘파이 배열로 변환합니다.')\n",
    "print(np.add(tensor, 1))\n",
    "\n",
    "print('.numpy() 메서드는 텐서를 넘파이 배열로 변환합니다.')\n",
    "print(tensor.numpy())"
   ]
  },
  {
   "cell_type": "code",
   "execution_count": null,
   "id": "fcb8fe6a",
   "metadata": {},
   "outputs": [],
   "source": []
  },
  {
   "cell_type": "markdown",
   "id": "c4fbda4c",
   "metadata": {},
   "source": [
    "### GPU 가속"
   ]
  },
  {
   "cell_type": "code",
   "execution_count": 8,
   "id": "f969581b",
   "metadata": {},
   "outputs": [
    {
     "name": "stdout",
     "output_type": "stream",
     "text": [
      "GPU 사용이 가능한가: \n",
      "WARNING:tensorflow:From <ipython-input-8-926727e45baf>:4: is_gpu_available (from tensorflow.python.framework.test_util) is deprecated and will be removed in a future version.\n",
      "Instructions for updating:\n",
      "Use `tf.config.list_physical_devices('GPU')` instead.\n",
      "False\n",
      "텐서가 GPU #0에 있는가: \n",
      "False\n"
     ]
    }
   ],
   "source": [
    "x = tf.random.uniform([3, 3])\n",
    "\n",
    "print('GPU 사용이 가능한가: ')\n",
    "print(tf.test.is_gpu_available())\n",
    "\n",
    "print('텐서가 GPU #0에 있는가: ')\n",
    "print(x.device.endswith('GPU:0'))"
   ]
  },
  {
   "cell_type": "code",
   "execution_count": null,
   "id": "0a63aa07",
   "metadata": {},
   "outputs": [],
   "source": []
  },
  {
   "cell_type": "code",
   "execution_count": 9,
   "id": "ae473375",
   "metadata": {},
   "outputs": [
    {
     "name": "stdout",
     "output_type": "stream",
     "text": [
      "On CPU: \n",
      "10 loops: 1640.86ms\n"
     ]
    }
   ],
   "source": [
    "import time\n",
    "\n",
    "def time_matmul(x):\n",
    "    start = time.time()\n",
    "    for loop in range(10):\n",
    "        tf.matmul(x, x)\n",
    "        \n",
    "    result = time.time() - start\n",
    "    \n",
    "    print('10 loops: {:0.2f}ms'.format(1000*result))\n",
    "    \n",
    "# CPU에서 강제 실행합니다\n",
    "print('On CPU: ')\n",
    "with tf.device('CPU:0'):\n",
    "    x = tf.random.uniform([1000, 1000])\n",
    "    assert x.device.endswith('CPU:0')\n",
    "    time_matmul(x)\n",
    "    \n",
    "# GPU #0가 이용가능시 GPU #0에서 강제 실행합니다.\n",
    "if tf.test.is_gpu_available():\n",
    "    print('On GPU: ')\n",
    "    with tf.device('GPU:0'):    # Or GPU:1 for the 2nd GPU, GPU:2 for the 3rd etc.\n",
    "        x = tf.random.uniform([1000, 1000])\n",
    "        assert x.device.endswith('GPU:0')\n",
    "        time_matmul(x)"
   ]
  },
  {
   "cell_type": "code",
   "execution_count": null,
   "id": "12104ba1",
   "metadata": {},
   "outputs": [],
   "source": []
  },
  {
   "cell_type": "markdown",
   "id": "06d13282",
   "metadata": {},
   "source": [
    "### 데이터세트"
   ]
  },
  {
   "cell_type": "code",
   "execution_count": 12,
   "id": "f54eb7b3",
   "metadata": {},
   "outputs": [],
   "source": [
    "ds_tensors = tf.data.Dataset.from_tensor_slices([1, 2, 3, 4, 5, 6])\n",
    "\n",
    "# csv 파일을 생성합니다\n",
    "import tempfile\n",
    "_, filename = tempfile.mkstemp()\n",
    "\n",
    "with open(filename, 'w') as f:\n",
    "    f.write('''Line 1\n",
    "    Line 2\n",
    "    Line 3\n",
    "    ''')\n",
    "    \n",
    "ds_file = tf.data.TextLineDataset(filename)"
   ]
  },
  {
   "cell_type": "code",
   "execution_count": null,
   "id": "00059e6c",
   "metadata": {},
   "outputs": [],
   "source": []
  },
  {
   "cell_type": "markdown",
   "id": "149995b6",
   "metadata": {},
   "source": [
    "#### 변환 적용\n",
    "  - 맵(map), 배치(batch), 셔플(shuffle)과 같은 변환 함수를 사용하여 데이터세트의 레코드에 적용"
   ]
  },
  {
   "cell_type": "code",
   "execution_count": 13,
   "id": "e38fd7b5",
   "metadata": {},
   "outputs": [
    {
     "data": {
      "text/plain": [
       "<BatchDataset shapes: (None,), types: tf.string>"
      ]
     },
     "execution_count": 13,
     "metadata": {},
     "output_type": "execute_result"
    }
   ],
   "source": [
    "ds_tensors = ds_tensors.map(tf.square).shuffle(2).batch(2)\n",
    "\n",
    "ds_file = ds_file.batch(2)\n",
    "ds_file"
   ]
  },
  {
   "cell_type": "code",
   "execution_count": null,
   "id": "b7a76c2e",
   "metadata": {},
   "outputs": [],
   "source": []
  },
  {
   "cell_type": "markdown",
   "id": "6d356ba6",
   "metadata": {},
   "source": [
    "#### 반복"
   ]
  },
  {
   "cell_type": "code",
   "execution_count": 14,
   "id": "c544b3f1",
   "metadata": {},
   "outputs": [
    {
     "name": "stdout",
     "output_type": "stream",
     "text": [
      "ds_tensors 요소: \n",
      "tf.Tensor([1 4], shape=(2,), dtype=int32)\n",
      "tf.Tensor([ 9 16], shape=(2,), dtype=int32)\n",
      "tf.Tensor([36 25], shape=(2,), dtype=int32)\n",
      "\n",
      "ds_file 요소: \n",
      "tf.Tensor([b'Line 1' b'    Line 2'], shape=(2,), dtype=string)\n",
      "tf.Tensor([b'    Line 3' b'    '], shape=(2,), dtype=string)\n"
     ]
    }
   ],
   "source": [
    "print('ds_tensors 요소: ')\n",
    "for x in ds_tensors:\n",
    "    print(x)\n",
    "    \n",
    "print('\\nds_file 요소: ')\n",
    "for x in ds_file:\n",
    "    print(x)"
   ]
  },
  {
   "cell_type": "code",
   "execution_count": null,
   "id": "aca2f87c",
   "metadata": {},
   "outputs": [],
   "source": []
  }
 ],
 "metadata": {
  "kernelspec": {
   "display_name": "Python 3",
   "language": "python",
   "name": "python3"
  },
  "language_info": {
   "codemirror_mode": {
    "name": "ipython",
    "version": 3
   },
   "file_extension": ".py",
   "mimetype": "text/x-python",
   "name": "python",
   "nbconvert_exporter": "python",
   "pygments_lexer": "ipython3",
   "version": "3.8.8"
  }
 },
 "nbformat": 4,
 "nbformat_minor": 5
}

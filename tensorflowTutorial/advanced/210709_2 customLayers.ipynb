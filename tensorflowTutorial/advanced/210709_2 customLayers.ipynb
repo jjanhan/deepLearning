{
 "cells": [
  {
   "cell_type": "markdown",
   "id": "382a9544",
   "metadata": {},
   "source": [
    "<참조: https://www.tensorflow.org/tutorials/customization/custom_layers?hl=ko>"
   ]
  },
  {
   "cell_type": "code",
   "execution_count": null,
   "id": "751afaba",
   "metadata": {},
   "outputs": [],
   "source": []
  },
  {
   "cell_type": "markdown",
   "id": "e361814d",
   "metadata": {},
   "source": [
    "## 사용자 정의 층"
   ]
  },
  {
   "cell_type": "code",
   "execution_count": 1,
   "id": "f25f7eda",
   "metadata": {},
   "outputs": [],
   "source": [
    "import tensorflow as tf"
   ]
  },
  {
   "cell_type": "code",
   "execution_count": null,
   "id": "2328341c",
   "metadata": {},
   "outputs": [],
   "source": []
  },
  {
   "cell_type": "markdown",
   "id": "81ed7176",
   "metadata": {},
   "source": [
    "### 01. Layer\n",
    "  - 머신러닝 모델 : 비교적 단순한 층(layer)을 조합하고 쌓아서 표현가능합니다\n",
    "  - 텐서플로는 여러 표준형 층을 제공\n",
    "    - 사용자들은 고유의 특화된 층을 작성하거나\n",
    "    - 기존 층의 조합으로 쉽게 만들 수 있습니다"
   ]
  },
  {
   "cell_type": "markdown",
   "id": "d7048157",
   "metadata": {},
   "source": [
    "- tf.keras.layers package에서 층(layer)은 객체\n",
    "  - 층을 구성하려면 간단히 객체를 생성합니다\n",
    "  - layer의 첫 번째 인수로 출력 차원 또는 채널을 선정합니다  \n",
    "    \n",
    "- 입력 차원의 수는 층을 처음 실행할 때 유추할 수 있습니다\n",
    "  - 복잡한 모델에서는 입력 차원의 수를 제공하는 것이 유용할 수 있습니다."
   ]
  },
  {
   "cell_type": "code",
   "execution_count": 2,
   "id": "708699d8",
   "metadata": {},
   "outputs": [],
   "source": [
    "layer = tf.keras.layers.Dense(100)\n",
    "\n",
    "layer = tf.keras.layers.Dense(10, input_shape=(None, 5))"
   ]
  },
  {
   "cell_type": "markdown",
   "id": "6feff069",
   "metadata": {},
   "source": [
    "- tensorflow에서 미리 구성되어 있는 층\n",
    "  - Dense : fully-connected\n",
    "  - Conv2D\n",
    "  - LSTM\n",
    "  - BatchNormalization\n",
    "  - Dropout  \n",
    "    \n",
    "  - 참조 문서 : https://www.tensorflow.org/api_docs/python/tf/keras/layers?hl=ko"
   ]
  },
  {
   "cell_type": "code",
   "execution_count": 3,
   "id": "db341571",
   "metadata": {},
   "outputs": [
    {
     "data": {
      "text/plain": [
       "<tf.Tensor: shape=(10, 5), dtype=float32, numpy=\n",
       "array([[0., 0., 0., 0., 0.],\n",
       "       [0., 0., 0., 0., 0.],\n",
       "       [0., 0., 0., 0., 0.],\n",
       "       [0., 0., 0., 0., 0.],\n",
       "       [0., 0., 0., 0., 0.],\n",
       "       [0., 0., 0., 0., 0.],\n",
       "       [0., 0., 0., 0., 0.],\n",
       "       [0., 0., 0., 0., 0.],\n",
       "       [0., 0., 0., 0., 0.],\n",
       "       [0., 0., 0., 0., 0.]], dtype=float32)>"
      ]
     },
     "execution_count": 3,
     "metadata": {},
     "output_type": "execute_result"
    }
   ],
   "source": [
    "tf.zeros([10, 5])"
   ]
  },
  {
   "cell_type": "code",
   "execution_count": 4,
   "id": "942905c2",
   "metadata": {},
   "outputs": [
    {
     "data": {
      "text/plain": [
       "<tf.Tensor: shape=(10, 10), dtype=float32, numpy=\n",
       "array([[0., 0., 0., 0., 0., 0., 0., 0., 0., 0.],\n",
       "       [0., 0., 0., 0., 0., 0., 0., 0., 0., 0.],\n",
       "       [0., 0., 0., 0., 0., 0., 0., 0., 0., 0.],\n",
       "       [0., 0., 0., 0., 0., 0., 0., 0., 0., 0.],\n",
       "       [0., 0., 0., 0., 0., 0., 0., 0., 0., 0.],\n",
       "       [0., 0., 0., 0., 0., 0., 0., 0., 0., 0.],\n",
       "       [0., 0., 0., 0., 0., 0., 0., 0., 0., 0.],\n",
       "       [0., 0., 0., 0., 0., 0., 0., 0., 0., 0.],\n",
       "       [0., 0., 0., 0., 0., 0., 0., 0., 0., 0.],\n",
       "       [0., 0., 0., 0., 0., 0., 0., 0., 0., 0.]], dtype=float32)>"
      ]
     },
     "execution_count": 4,
     "metadata": {},
     "output_type": "execute_result"
    }
   ],
   "source": [
    "layer(tf.zeros([10, 5]))"
   ]
  },
  {
   "cell_type": "markdown",
   "id": "0853e9d5",
   "metadata": {},
   "source": [
    "### 이 부분의 결과를 잘 알지 못합니다"
   ]
  },
  {
   "cell_type": "code",
   "execution_count": 5,
   "id": "307ddd6a",
   "metadata": {},
   "outputs": [
    {
     "data": {
      "text/plain": [
       "<tf.Tensor: shape=(3, 10), dtype=float32, numpy=\n",
       "array([[0., 0., 0., 0., 0., 0., 0., 0., 0., 0.],\n",
       "       [0., 0., 0., 0., 0., 0., 0., 0., 0., 0.],\n",
       "       [0., 0., 0., 0., 0., 0., 0., 0., 0., 0.]], dtype=float32)>"
      ]
     },
     "execution_count": 5,
     "metadata": {},
     "output_type": "execute_result"
    }
   ],
   "source": [
    "layer(tf.zeros([3, 5]))"
   ]
  },
  {
   "cell_type": "code",
   "execution_count": 8,
   "id": "b3ce346d",
   "metadata": {},
   "outputs": [
    {
     "ename": "ValueError",
     "evalue": "Input 0 of layer dense_1 is incompatible with the layer: expected axis -1 of input shape to have value 5 but received input with shape (3, 4)",
     "output_type": "error",
     "traceback": [
      "\u001b[1;31m---------------------------------------------------------------------------\u001b[0m",
      "\u001b[1;31mValueError\u001b[0m                                Traceback (most recent call last)",
      "\u001b[1;32m<ipython-input-8-3b54643105c5>\u001b[0m in \u001b[0;36m<module>\u001b[1;34m\u001b[0m\n\u001b[1;32m----> 1\u001b[1;33m \u001b[0mlayer\u001b[0m\u001b[1;33m(\u001b[0m\u001b[0mtf\u001b[0m\u001b[1;33m.\u001b[0m\u001b[0mzeros\u001b[0m\u001b[1;33m(\u001b[0m\u001b[1;33m[\u001b[0m\u001b[1;36m3\u001b[0m\u001b[1;33m,\u001b[0m \u001b[1;36m4\u001b[0m\u001b[1;33m]\u001b[0m\u001b[1;33m)\u001b[0m\u001b[1;33m)\u001b[0m\u001b[1;33m\u001b[0m\u001b[1;33m\u001b[0m\u001b[0m\n\u001b[0m",
      "\u001b[1;32m~\\anaconda3\\lib\\site-packages\\keras\\engine\\base_layer.py\u001b[0m in \u001b[0;36m__call__\u001b[1;34m(self, *args, **kwargs)\u001b[0m\n\u001b[0;32m   1018\u001b[0m         training=training_mode):\n\u001b[0;32m   1019\u001b[0m \u001b[1;33m\u001b[0m\u001b[0m\n\u001b[1;32m-> 1020\u001b[1;33m       \u001b[0minput_spec\u001b[0m\u001b[1;33m.\u001b[0m\u001b[0massert_input_compatibility\u001b[0m\u001b[1;33m(\u001b[0m\u001b[0mself\u001b[0m\u001b[1;33m.\u001b[0m\u001b[0minput_spec\u001b[0m\u001b[1;33m,\u001b[0m \u001b[0minputs\u001b[0m\u001b[1;33m,\u001b[0m \u001b[0mself\u001b[0m\u001b[1;33m.\u001b[0m\u001b[0mname\u001b[0m\u001b[1;33m)\u001b[0m\u001b[1;33m\u001b[0m\u001b[1;33m\u001b[0m\u001b[0m\n\u001b[0m\u001b[0;32m   1021\u001b[0m       \u001b[1;32mif\u001b[0m \u001b[0meager\u001b[0m\u001b[1;33m:\u001b[0m\u001b[1;33m\u001b[0m\u001b[1;33m\u001b[0m\u001b[0m\n\u001b[0;32m   1022\u001b[0m         \u001b[0mcall_fn\u001b[0m \u001b[1;33m=\u001b[0m \u001b[0mself\u001b[0m\u001b[1;33m.\u001b[0m\u001b[0mcall\u001b[0m\u001b[1;33m\u001b[0m\u001b[1;33m\u001b[0m\u001b[0m\n",
      "\u001b[1;32m~\\anaconda3\\lib\\site-packages\\keras\\engine\\input_spec.py\u001b[0m in \u001b[0;36massert_input_compatibility\u001b[1;34m(input_spec, inputs, layer_name)\u001b[0m\n\u001b[0;32m    248\u001b[0m           \u001b[0mvalue\u001b[0m \u001b[1;33m=\u001b[0m \u001b[0mvalue\u001b[0m\u001b[1;33m.\u001b[0m\u001b[0mvalue\u001b[0m\u001b[1;33m\u001b[0m\u001b[1;33m\u001b[0m\u001b[0m\n\u001b[0;32m    249\u001b[0m         \u001b[1;32mif\u001b[0m \u001b[0mvalue\u001b[0m \u001b[1;32mis\u001b[0m \u001b[1;32mnot\u001b[0m \u001b[1;32mNone\u001b[0m \u001b[1;32mand\u001b[0m \u001b[0mshape_as_list\u001b[0m\u001b[1;33m[\u001b[0m\u001b[0mint\u001b[0m\u001b[1;33m(\u001b[0m\u001b[0maxis\u001b[0m\u001b[1;33m)\u001b[0m\u001b[1;33m]\u001b[0m \u001b[1;32mnot\u001b[0m \u001b[1;32min\u001b[0m \u001b[1;33m{\u001b[0m\u001b[0mvalue\u001b[0m\u001b[1;33m,\u001b[0m \u001b[1;32mNone\u001b[0m\u001b[1;33m}\u001b[0m\u001b[1;33m:\u001b[0m\u001b[1;33m\u001b[0m\u001b[1;33m\u001b[0m\u001b[0m\n\u001b[1;32m--> 250\u001b[1;33m           raise ValueError(\n\u001b[0m\u001b[0;32m    251\u001b[0m               \u001b[1;34m'Input '\u001b[0m \u001b[1;33m+\u001b[0m \u001b[0mstr\u001b[0m\u001b[1;33m(\u001b[0m\u001b[0minput_index\u001b[0m\u001b[1;33m)\u001b[0m \u001b[1;33m+\u001b[0m \u001b[1;34m' of layer '\u001b[0m \u001b[1;33m+\u001b[0m \u001b[0mlayer_name\u001b[0m \u001b[1;33m+\u001b[0m \u001b[1;34m' is'\u001b[0m\u001b[1;33m\u001b[0m\u001b[1;33m\u001b[0m\u001b[0m\n\u001b[0;32m    252\u001b[0m               \u001b[1;34m' incompatible with the layer: expected axis '\u001b[0m \u001b[1;33m+\u001b[0m \u001b[0mstr\u001b[0m\u001b[1;33m(\u001b[0m\u001b[0maxis\u001b[0m\u001b[1;33m)\u001b[0m \u001b[1;33m+\u001b[0m\u001b[1;33m\u001b[0m\u001b[1;33m\u001b[0m\u001b[0m\n",
      "\u001b[1;31mValueError\u001b[0m: Input 0 of layer dense_1 is incompatible with the layer: expected axis -1 of input shape to have value 5 but received input with shape (3, 4)"
     ]
    }
   ],
   "source": [
    "layer(tf.zeros([3, 4]))  # input_shape와 형태가 달라서 오류"
   ]
  },
  {
   "cell_type": "code",
   "execution_count": null,
   "id": "aed0df62",
   "metadata": {},
   "outputs": [],
   "source": []
  },
  {
   "cell_type": "markdown",
   "id": "2e6ab85b",
   "metadata": {},
   "source": [
    "- layer\n",
    "  - layer.variables : 층 안의 모든 변수를 확인할 수 있습니다.\n",
    "  - layer.trainable_variables : 훈련 가능한 변수를 확인할 수 있습니다\n",
    "  - fully-connected layer : weight / biases를 위한 변수를 가집니다"
   ]
  },
  {
   "cell_type": "code",
   "execution_count": 9,
   "id": "daefb9f2",
   "metadata": {},
   "outputs": [
    {
     "data": {
      "text/plain": [
       "[<tf.Variable 'dense_1/kernel:0' shape=(5, 10) dtype=float32, numpy=\n",
       " array([[-0.63174725,  0.2245413 , -0.40712088,  0.29714632, -0.48335415,\n",
       "          0.36322963,  0.3486405 ,  0.3058815 , -0.17080233,  0.3407877 ],\n",
       "        [-0.5446694 , -0.00430244,  0.5965473 ,  0.5768562 ,  0.02734649,\n",
       "         -0.02158999,  0.22843397, -0.29991525, -0.5031674 , -0.45338422],\n",
       "        [-0.26000994, -0.3455395 , -0.6077629 , -0.00519168,  0.39173728,\n",
       "         -0.23544157,  0.535695  ,  0.08076084, -0.03909618, -0.46358162],\n",
       "        [ 0.2829317 ,  0.44092268,  0.58469814,  0.02507758,  0.2564667 ,\n",
       "         -0.24720374, -0.4041831 ,  0.21552008, -0.55923545, -0.20571214],\n",
       "        [ 0.6011686 ,  0.00690281,  0.567872  ,  0.2121498 ,  0.07092607,\n",
       "         -0.05902416, -0.24375805,  0.14211392,  0.42058522,  0.27720457]],\n",
       "       dtype=float32)>,\n",
       " <tf.Variable 'dense_1/bias:0' shape=(10,) dtype=float32, numpy=array([0., 0., 0., 0., 0., 0., 0., 0., 0., 0.], dtype=float32)>]"
      ]
     },
     "execution_count": 9,
     "metadata": {},
     "output_type": "execute_result"
    }
   ],
   "source": [
    "layer.variables"
   ]
  },
  {
   "cell_type": "code",
   "execution_count": 10,
   "id": "1193dba2",
   "metadata": {},
   "outputs": [
    {
     "data": {
      "text/plain": [
       "(<tf.Variable 'dense_1/kernel:0' shape=(5, 10) dtype=float32, numpy=\n",
       " array([[-0.63174725,  0.2245413 , -0.40712088,  0.29714632, -0.48335415,\n",
       "          0.36322963,  0.3486405 ,  0.3058815 , -0.17080233,  0.3407877 ],\n",
       "        [-0.5446694 , -0.00430244,  0.5965473 ,  0.5768562 ,  0.02734649,\n",
       "         -0.02158999,  0.22843397, -0.29991525, -0.5031674 , -0.45338422],\n",
       "        [-0.26000994, -0.3455395 , -0.6077629 , -0.00519168,  0.39173728,\n",
       "         -0.23544157,  0.535695  ,  0.08076084, -0.03909618, -0.46358162],\n",
       "        [ 0.2829317 ,  0.44092268,  0.58469814,  0.02507758,  0.2564667 ,\n",
       "         -0.24720374, -0.4041831 ,  0.21552008, -0.55923545, -0.20571214],\n",
       "        [ 0.6011686 ,  0.00690281,  0.567872  ,  0.2121498 ,  0.07092607,\n",
       "         -0.05902416, -0.24375805,  0.14211392,  0.42058522,  0.27720457]],\n",
       "       dtype=float32)>,\n",
       " <tf.Variable 'dense_1/bias:0' shape=(10,) dtype=float32, numpy=array([0., 0., 0., 0., 0., 0., 0., 0., 0., 0.], dtype=float32)>)"
      ]
     },
     "execution_count": 10,
     "metadata": {},
     "output_type": "execute_result"
    }
   ],
   "source": [
    "layer.kernel, layer.bias"
   ]
  },
  {
   "cell_type": "markdown",
   "id": "ada40143",
   "metadata": {},
   "source": [
    "#### 이 부분도 결과를 잘 모르겠습니다. \n",
    "- 하지만 일단 넘어가고 튜토리얼 학습이 끝난 후에도 모르면 그때 다시 짚어볼 예정입니다.\n",
    "- 그래서 이렇게 표시해둡니다."
   ]
  },
  {
   "cell_type": "code",
   "execution_count": null,
   "id": "94b7e2fc",
   "metadata": {},
   "outputs": [],
   "source": []
  },
  {
   "cell_type": "markdown",
   "id": "564952a7",
   "metadata": {},
   "source": [
    "### 02. 사용자 정의 층 구현\n",
    "-  __init__ : 층에 필요한 매개변수를 입력받습니다\n",
    "- build, 입력 텐서의 크기를 얻고 남은 초기화를 진행할 수 있습니다\n",
    "- call, forward computation을 진행할 수 있습니다"
   ]
  },
  {
   "cell_type": "code",
   "execution_count": 11,
   "id": "8a689b5e",
   "metadata": {},
   "outputs": [],
   "source": [
    "class MyDenseLayer(tf.keras.layers.Layer):\n",
    "    def __init__(self, num_outputs):\n",
    "        super(MyDenseLayer, self).__init__()\n",
    "        self.num_outputs = num_outputs\n",
    "        \n",
    "    def build(self, input_shape):\n",
    "        self.kernel = self.add_variable('kernel',\n",
    "                                       shape=[int(input_shape[-1]),\n",
    "                                             self.num_outputs])\n",
    "        \n",
    "    def cal(self, input):\n",
    "        return tf.matmul(input, self.kernel)"
   ]
  },
  {
   "cell_type": "code",
   "execution_count": 12,
   "id": "3fddda36",
   "metadata": {},
   "outputs": [
    {
     "name": "stdout",
     "output_type": "stream",
     "text": [
      "tf.Tensor(\n",
      "[[0. 0. 0. 0. 0.]\n",
      " [0. 0. 0. 0. 0.]\n",
      " [0. 0. 0. 0. 0.]\n",
      " [0. 0. 0. 0. 0.]\n",
      " [0. 0. 0. 0. 0.]\n",
      " [0. 0. 0. 0. 0.]\n",
      " [0. 0. 0. 0. 0.]\n",
      " [0. 0. 0. 0. 0.]\n",
      " [0. 0. 0. 0. 0.]\n",
      " [0. 0. 0. 0. 0.]], shape=(10, 5), dtype=float32)\n",
      "[<tf.Variable 'my_dense_layer/kernel:0' shape=(5, 10) dtype=float32, numpy=\n",
      "array([[ 0.5329868 , -0.545226  , -0.29809928, -0.3191119 ,  0.51729935,\n",
      "         0.17711318, -0.37608805,  0.10321456,  0.49123412,  0.57430667],\n",
      "       [-0.35332444, -0.42599759,  0.50374025, -0.62148005,  0.536534  ,\n",
      "         0.01142848, -0.5168505 ,  0.63214463, -0.5039146 ,  0.49229282],\n",
      "       [-0.07961744, -0.00076598, -0.17630208, -0.49516004, -0.43849906,\n",
      "        -0.21256053, -0.13767186,  0.12444073,  0.2635396 ,  0.30963677],\n",
      "       [-0.14600581,  0.41410965, -0.49273264,  0.35357493, -0.43954688,\n",
      "        -0.53076875, -0.507882  ,  0.10101515, -0.51822263,  0.6082937 ],\n",
      "       [-0.58203423, -0.11935079,  0.61440164, -0.39394736,  0.5338568 ,\n",
      "        -0.4486835 ,  0.56326085, -0.22946247, -0.30800447, -0.01455295]],\n",
      "      dtype=float32)>]\n"
     ]
    },
    {
     "name": "stderr",
     "output_type": "stream",
     "text": [
      "C:\\Users\\jjanh_000\\anaconda3\\lib\\site-packages\\keras\\engine\\base_layer.py:2223: UserWarning: `layer.add_variable` is deprecated and will be removed in a future version. Please use `layer.add_weight` method instead.\n",
      "  warnings.warn('`layer.add_variable` is deprecated and '\n"
     ]
    }
   ],
   "source": [
    "layer = MyDenseLayer(10)\n",
    "print(layer(tf.zeros([10, 5])))\n",
    "print(layer.trainable_variables)"
   ]
  },
  {
   "cell_type": "code",
   "execution_count": null,
   "id": "1315b0dd",
   "metadata": {},
   "outputs": [],
   "source": []
  },
  {
   "cell_type": "markdown",
   "id": "55ceabcf",
   "metadata": {},
   "source": [
    "### 03. 모델 : 층 구성"
   ]
  },
  {
   "cell_type": "code",
   "execution_count": 13,
   "id": "dc625e7e",
   "metadata": {},
   "outputs": [],
   "source": [
    "class ResnetIdentityBlock(tf.keras.Model):\n",
    "    def __init__(self, kernel_size, filters):\n",
    "        super(ResnetIdentityBlock, self).__init__(name='')\n",
    "        filters1, filters2, filters3 = filters\n",
    "        \n",
    "        self.conv2a = tf.keras.layers.Conv2D(filters1, (1, 1))\n",
    "        self.bn2a = tf.keras.layers.BatchNormalization()\n",
    "        \n",
    "        self.conv2b = tf.keras.layers.Conv2D(filters2, kernel_size, padding='same')\n",
    "        self.bn2b = tf.keras.layers.BatchNormalization()\n",
    "        \n",
    "        self.conv2c = tf.keras.layers.Conv2D(filters3, (1, 1))\n",
    "        self.bn2c = tf.keras.layers.BatchNormalization()\n",
    "        \n",
    "    def call(self, input_tensor, training=False):\n",
    "        x = self.conv2a(input_tensor)\n",
    "        x = self.bn2a(x, training=training)\n",
    "        x = tf.nn.relu(x)\n",
    "        \n",
    "        x = self.conv2b(x)\n",
    "        x = self.bn2b(x, training=training)\n",
    "        x = tf.nn.relu(x)\n",
    "        \n",
    "        x = self.conv2c(x)\n",
    "        x = self.bn2c(x, training=training)\n",
    "        \n",
    "        x += input_tensor\n",
    "        return tf.nn.relu(x)"
   ]
  },
  {
   "cell_type": "code",
   "execution_count": 14,
   "id": "e3e0d68f",
   "metadata": {},
   "outputs": [
    {
     "name": "stdout",
     "output_type": "stream",
     "text": [
      "tf.Tensor(\n",
      "[[[[0. 0. 0.]\n",
      "   [0. 0. 0.]\n",
      "   [0. 0. 0.]]\n",
      "\n",
      "  [[0. 0. 0.]\n",
      "   [0. 0. 0.]\n",
      "   [0. 0. 0.]]]], shape=(1, 2, 3, 3), dtype=float32)\n",
      "['resnet_identity_block/conv2d/kernel:0', 'resnet_identity_block/conv2d/bias:0', 'resnet_identity_block/batch_normalization/gamma:0', 'resnet_identity_block/batch_normalization/beta:0', 'resnet_identity_block/conv2d_1/kernel:0', 'resnet_identity_block/conv2d_1/bias:0', 'resnet_identity_block/batch_normalization_1/gamma:0', 'resnet_identity_block/batch_normalization_1/beta:0', 'resnet_identity_block/conv2d_2/kernel:0', 'resnet_identity_block/conv2d_2/bias:0', 'resnet_identity_block/batch_normalization_2/gamma:0', 'resnet_identity_block/batch_normalization_2/beta:0']\n"
     ]
    }
   ],
   "source": [
    "block = ResnetIdentityBlock(1, [1, 2, 3])\n",
    "print(block(tf.zeros([1, 2, 3, 3])))\n",
    "print([x.name for x in block.trainable_variables])"
   ]
  },
  {
   "cell_type": "code",
   "execution_count": null,
   "id": "c7049224",
   "metadata": {},
   "outputs": [],
   "source": []
  },
  {
   "cell_type": "markdown",
   "id": "53999d88",
   "metadata": {},
   "source": [
    "#### 위에 작성한 코드를 tf.keras.Sequential을 사용하여 간단하게 구현한 것입니다."
   ]
  },
  {
   "cell_type": "code",
   "execution_count": 15,
   "id": "435414cc",
   "metadata": {},
   "outputs": [],
   "source": [
    "my_seq = tf.keras.Sequential([\n",
    "    tf.keras.layers.Conv2D(1, (1, 1), input_shape=(None, None, 3)),\n",
    "    tf.keras.layers.BatchNormalization(),\n",
    "    \n",
    "    tf.keras.layers.Conv2D(2, 1, padding='same'),\n",
    "    tf.keras.layers.BatchNormalization(),\n",
    "    \n",
    "    tf.keras.layers.Conv2D(3, (1, 1)),\n",
    "    tf.keras.layers.BatchNormalization()\n",
    "])"
   ]
  },
  {
   "cell_type": "code",
   "execution_count": 16,
   "id": "9ba5d4b0",
   "metadata": {},
   "outputs": [
    {
     "data": {
      "text/plain": [
       "<tf.Tensor: shape=(1, 2, 3, 3), dtype=float32, numpy=\n",
       "array([[[[0., 0., 0.],\n",
       "         [0., 0., 0.],\n",
       "         [0., 0., 0.]],\n",
       "\n",
       "        [[0., 0., 0.],\n",
       "         [0., 0., 0.],\n",
       "         [0., 0., 0.]]]], dtype=float32)>"
      ]
     },
     "execution_count": 16,
     "metadata": {},
     "output_type": "execute_result"
    }
   ],
   "source": [
    "my_seq(tf.zeros([1, 2, 3, 3]))"
   ]
  },
  {
   "cell_type": "code",
   "execution_count": null,
   "id": "d7c4a188",
   "metadata": {},
   "outputs": [],
   "source": []
  }
 ],
 "metadata": {
  "kernelspec": {
   "display_name": "Python 3",
   "language": "python",
   "name": "python3"
  },
  "language_info": {
   "codemirror_mode": {
    "name": "ipython",
    "version": 3
   },
   "file_extension": ".py",
   "mimetype": "text/x-python",
   "name": "python",
   "nbconvert_exporter": "python",
   "pygments_lexer": "ipython3",
   "version": "3.8.8"
  }
 },
 "nbformat": 4,
 "nbformat_minor": 5
}
